{
 "cells": [
  {
   "cell_type": "markdown",
   "metadata": {},
   "source": [
    "## Informative Search using A* Algorithm and its comparison to uninformed search methods (BFS, Dijkstra)"
   ]
  },
  {
   "cell_type": "markdown",
   "metadata": {},
   "source": [
    "import the necessary libraries"
   ]
  },
  {
   "cell_type": "code",
   "execution_count": 151,
   "metadata": {},
   "outputs": [],
   "source": [
    "import matplotlib.pyplot as plt\n",
    "import numpy as np\n",
    "import sys\n",
    "import networkx as nx\n",
    "%matplotlib inline"
   ]
  },
  {
   "cell_type": "markdown",
   "metadata": {},
   "source": [
    "'build_maze' builds the maze from 'maze_file.txt'."
   ]
  },
  {
   "cell_type": "code",
   "execution_count": 152,
   "metadata": {},
   "outputs": [],
   "source": [
    "def build_maze(maze_file):\n",
    "    '''\n",
    "    para1: filename of the maze txt file\n",
    "    return mazes as a numpy array walls: 0 - no wall, 1 - wall in the maze\n",
    "    '''\n",
    "    a = open(maze_file, 'r')  \n",
    "    m=[]\n",
    "    for i in a.readlines():\n",
    "        m.append(np.array(i.split(\" \"), dtype=\"int32\"))\n",
    "    return np.array(m)"
   ]
  },
  {
   "cell_type": "markdown",
   "metadata": {},
   "source": [
    "define START and GOAL states within the maze"
   ]
  },
  {
   "cell_type": "markdown",
   "metadata": {},
   "source": [
    "***Visualize the maze***: "
   ]
  },
  {
   "cell_type": "code",
   "execution_count": 153,
   "metadata": {},
   "outputs": [
    {
     "data": {
      "text/plain": [
       "<matplotlib.image.AxesImage at 0x268da7f7ee0>"
      ]
     },
     "execution_count": 153,
     "metadata": {},
     "output_type": "execute_result"
    },
    {
     "data": {
      "image/png": "[encoded data removed]",
      "text/plain": [
       "<Figure size 432x288 with 1 Axes>"
      ]
     },
     "metadata": {
      "needs_background": "light"
     },
     "output_type": "display_data"
    }
   ],
   "source": [
    "# (you are encouraged to look at the API of 'imshow')\n",
    "plt.imshow(build_maze(\"maze_20x20.txt\"), cmap='Greens')"
   ]
  },
  {
   "cell_type": "code",
   "execution_count": 154,
   "metadata": {},
   "outputs": [],
   "source": [
    "START=(1, 1)\n",
    "GOAL=(19,19)\n",
    "# Goal for 50X50 maze is (1,49)"
   ]
  },
  {
   "cell_type": "markdown",
   "metadata": {},
   "source": [
    "'Find_the_edges' builds the graph for the maze, assuming that the robot can move only in the four directions (Up, Down, Right, Left)."
   ]
  },
  {
   "cell_type": "code",
   "execution_count": 155,
   "metadata": {},
   "outputs": [],
   "source": [
    "def Find_the_edges(maze):\n",
    "    '''\n",
    "    para1: numpy array of the maze structure\n",
    "    return graph of the connected nodes\n",
    "    '''\n",
    "    graph={}\n",
    "    grid_size=len(maze)\n",
    "    for i in range(grid_size):\n",
    "        for j in range(grid_size):\n",
    "            if(maze[i][j]!=1):\n",
    "                adj=[]\n",
    "                eles=[]\n",
    "                if i - 1 >= 0:\n",
    "                    eles.append((i-1,j))\n",
    "                if i + 1 < grid_size:\n",
    "                    eles.append((i+1,j))\n",
    "                if j - 1 >=0:\n",
    "                    eles.append((i,j-1))\n",
    "                if j+1< grid_size:\n",
    "                    eles.append((i,j+1))\n",
    "                for ele in eles:\n",
    "                    if maze[ele[0]][ele[1]] == 0 or maze[ele[0]][ele[1]]=='3' :\n",
    "                        adj.append((ele[0],ele[1]))\n",
    "                graph[(i,j)]=adj\n",
    "    return graph"
   ]
  },
  {
   "cell_type": "markdown",
   "metadata": {},
   "source": [
    "***Breadth First Search (BFS)***"
   ]
  },
  {
   "cell_type": "code",
   "execution_count": 156,
   "metadata": {},
   "outputs": [
    {
     "data": {
      "text/plain": [
       "'\\nvisited nodes - mark them as -3 in maze numpy array \\npath- mark them as -1 in maze numpy array\\nand Visualize the maze\\n'"
      ]
     },
     "execution_count": 156,
     "metadata": {},
     "output_type": "execute_result"
    }
   ],
   "source": [
    "from collections import deque\n",
    "def BreadthFirst(graph, start, goal):\n",
    "    '''\n",
    "    para1: connected graph\n",
    "    para2: Starting node\n",
    "    para3: ending Node\n",
    "    return1: list of visited nodes\n",
    "    return2: nodes of shortest path\n",
    "    '''\n",
    "    queue = deque([([start], start)])\n",
    "    visited = set()\n",
    "    \n",
    "    while queue:\n",
    "        path, current = queue.popleft()\n",
    "        #print(path, current)\n",
    "        if current == goal:\n",
    "            #print( path)\n",
    "            return visited, np.array(path)\n",
    "        if current in visited:\n",
    "            continue\n",
    "        #print(current)\n",
    "        visited.add(current)\n",
    "        for neighbour in graph[current]:\n",
    "            #print(graph[current])\n",
    "            p = list(path)\n",
    "            p.append(neighbour)\n",
    "            queue.append((p, neighbour))\n",
    "    return visited, path\n",
    "'''\n",
    "visited nodes - mark them as -3 in maze numpy array \n",
    "path- mark them as -1 in maze numpy array\n",
    "and Visualize the maze\n",
    "'''    "
   ]
  },
  {
   "cell_type": "code",
   "execution_count": 157,
   "metadata": {},
   "outputs": [],
   "source": [
    "#example for visualization of maze with visited nodes and shortest path\n",
    "# visited nodes are marked by '-3', the final path is marked by '-1'.\n",
    "maze1=build_maze(\"maze_20x20.txt\")\n",
    "graph=Find_the_edges(maze1)\n",
    "visited, path = BreadthFirst(graph, START, GOAL)\n",
    "for i in visited:\n",
    "    maze1[i[0],i[1]]=-3\n",
    "for i in path:\n",
    "    maze1[i[0],i[1]]=-1"
   ]
  },
  {
   "cell_type": "code",
   "execution_count": 158,
   "metadata": {},
   "outputs": [
    {
     "data": {
      "text/plain": [
       "<matplotlib.image.AxesImage at 0x268dadae730>"
      ]
     },
     "execution_count": 158,
     "metadata": {},
     "output_type": "execute_result"
    },
    {
     "data": {
      "image/png": "[encoded data removed]",
      "text/plain": [
       "<Figure size 432x288 with 1 Axes>"
      ]
     },
     "metadata": {
      "needs_background": "light"
     },
     "output_type": "display_data"
    }
   ],
   "source": [
    "plt.imshow(maze1, cmap='Pastel2')"
   ]
  },
  {
   "cell_type": "markdown",
   "metadata": {},
   "source": [
    "- ***gray cells*** means the walls of the maze\n",
    "- ***dark green cells*** means the visited cells of the maze\n",
    "- ***light green cells*** means the shortest path of the maze\n",
    "- ***light brown*** means the unvisited cells of the maze"
   ]
  },
  {
   "cell_type": "markdown",
   "metadata": {},
   "source": [
    "***A**** ***-search*** "
   ]
  },
  {
   "cell_type": "code",
   "execution_count": 159,
   "metadata": {},
   "outputs": [
    {
     "data": {
      "text/plain": [
       "'\\nvisited nodes - mark them as -3 in maze numpy array \\npath- mark them as -1 in maze numpy array\\nand Visualize the maze\\n'"
      ]
     },
     "execution_count": 159,
     "metadata": {},
     "output_type": "execute_result"
    }
   ],
   "source": [
    "import heapq\n",
    "\n",
    "class PriorityQueue:\n",
    "    def __init__(self):\n",
    "        self.elements = []\n",
    "    \n",
    "    def empty(self) -> bool:\n",
    "        return not self.elements\n",
    "    \n",
    "    def put(self, item, priority):\n",
    "        heapq.heappush(self.elements, (priority, item))\n",
    "    \n",
    "    def get(self):\n",
    "        return heapq.heappop(self.elements)[1]\n",
    "\n",
    "def astar_path(graph, start, goal):\n",
    "    '''\n",
    "    para1: connected graph\n",
    "    para2: Starting node\n",
    "    para3: ending Node\n",
    "    return1: list of visited nodes\n",
    "    return2: nodes of shortest path\n",
    "    '''\n",
    "    frontier = PriorityQueue()\n",
    "    frontier.put(start, 0)\n",
    "    came_from= {}\n",
    "    cost_so_far= {}\n",
    "    came_from[start] = None\n",
    "    cost_so_far[start] = 0\n",
    "    while not frontier.empty():\n",
    "        current = frontier.get()\n",
    "        if current == goal:\n",
    "            break\n",
    "        #print(graph[current])\n",
    "        for next in (graph[current]):\n",
    "            maze1[current]=-1\n",
    "            new_cost = cost_so_far[current] + 1\n",
    "            if next not in cost_so_far or new_cost < cost_so_far[next]:\n",
    "                cost_so_far[next] = new_cost\n",
    "                ######\n",
    "                #you can make the interface of 'astar_path' more robust by providing a heuristic as a parameter\n",
    "                ###\n",
    "                priority = new_cost + W*Euclidean_distance(next, goal)\n",
    "                frontier.put(next, priority)\n",
    "                came_from[next] = current\n",
    "    current= goal\n",
    "    path = []\n",
    "    while current != start: \n",
    "        path.append(current)\n",
    "        #print(came_from[current])\n",
    "        current = came_from[current]\n",
    "    path.append(start) \n",
    "    path.reverse() \n",
    "    return came_from, path\n",
    "'''\n",
    "visited nodes - mark them as -3 in maze numpy array \n",
    "path- mark them as -1 in maze numpy array\n",
    "and Visualize the maze\n",
    "'''    "
   ]
  },
  {
   "cell_type": "markdown",
   "metadata": {},
   "source": [
    "***Dijkstra Algorithm***"
   ]
  },
  {
   "cell_type": "code",
   "execution_count": 160,
   "metadata": {},
   "outputs": [
    {
     "data": {
      "text/plain": [
       "'\\nvisited nodes - mark them as -3 in maze numpy array \\npath- mark them as -1 in maze numpy array\\nand Visualize the maze\\n'"
      ]
     },
     "execution_count": 160,
     "metadata": {},
     "output_type": "execute_result"
    }
   ],
   "source": [
    "def dijkstra_algorithm(graph, start_node, GOAL):\n",
    "    '''\n",
    "    para1: connected graph \n",
    "    para2: Starting node\n",
    "    para3: ending Node\n",
    "    return1: list of visited nodes\n",
    "    return2: nodes of shortest path\n",
    "    '''\n",
    "    unvisited_nodes = list(graph.keys())\n",
    " \n",
    "    # We'll use this dict to save the cost of visiting each node and update it as we move along the graph   \n",
    "    shortest_path = {}\n",
    " \n",
    "    # We'll use this dict to save the shortest known path to a node found so far\n",
    "    previous_nodes = {}\n",
    " \n",
    "    # We'll use max_value to initialize the \"infinity\" value of the unvisited nodes   \n",
    "    max_value = sys.maxsize\n",
    "    for node in unvisited_nodes:\n",
    "        shortest_path[node] = max_value\n",
    "    # However, we initialize the starting node's value with 0   \n",
    "    shortest_path[start_node] = 0\n",
    "    \n",
    "    # The algorithm executes until we visit all nodes\n",
    "    while GOAL in unvisited_nodes:\n",
    "        # The code block below finds the node with the lowest score\n",
    "        current_min_node = None\n",
    "        for node in unvisited_nodes: # Iterate over the nodes\n",
    "            if current_min_node == None:\n",
    "                current_min_node = node\n",
    "            elif shortest_path[node] < shortest_path[current_min_node]:\n",
    "                current_min_node = node\n",
    "                \n",
    "        # The code block below retrieves the current node's neighbors and updates their distances\n",
    "        neighbors = graph[current_min_node]\n",
    "        for neighbor in neighbors:\n",
    "            tentative_value = shortest_path[current_min_node] + 1 \n",
    "            if tentative_value < shortest_path[neighbor]:\n",
    "                shortest_path[neighbor] = tentative_value\n",
    "                # We also update the best path to the current node\n",
    "                previous_nodes[neighbor] = current_min_node\n",
    " \n",
    "        # After visiting its neighbors, we mark the node as \"visited\"\n",
    "        unvisited_nodes.remove(current_min_node)\n",
    "\n",
    "    current= GOAL\n",
    "    path = []\n",
    "    while current != START: \n",
    "        path.append(current)\n",
    "        #print(previous_nodes[current])\n",
    "        current = previous_nodes[current]\n",
    "    path.append(START) \n",
    "    path.reverse() \n",
    "    return previous_nodes, path\n",
    "'''\n",
    "visited nodes - mark them as -3 in maze numpy array \n",
    "path- mark them as -1 in maze numpy array\n",
    "and Visualize the maze\n",
    "'''    \n"
   ]
  },
  {
   "cell_type": "markdown",
   "metadata": {},
   "source": [
    "### Task - 1"
   ]
  },
  {
   "cell_type": "markdown",
   "metadata": {},
   "source": [
    "Build your maze with dimentions 25 x 25 and a similar complexity (number of obstacles/fences) \n",
    "as in the maze provided in 'maze_20x20.txt'. Check that there exists a path between START at the \n",
    "(1, 1) and the GOAL at (25, 25) in your maze. Store your maze to 'my_maze_25x25.txt'. Visualize your maze. \n",
    "Use your maze in the below tasks. "
   ]
  },
  {
   "cell_type": "code",
   "execution_count": 161,
   "metadata": {},
   "outputs": [
    {
     "data": {
      "text/plain": [
       "<matplotlib.image.AxesImage at 0x268dcda92b0>"
      ]
     },
     "execution_count": 161,
     "metadata": {},
     "output_type": "execute_result"
    },
    {
     "data": {
      "image/png": "[encoded data removed]",
      "text/plain": [
       "<Figure size 432x288 with 1 Axes>"
      ]
     },
     "metadata": {
      "needs_background": "light"
     },
     "output_type": "display_data"
    }
   ],
   "source": [
    "plt.imshow(build_maze(\"maze_25x25.txt\"), cmap='Greens')"
   ]
  },
  {
   "cell_type": "markdown",
   "metadata": {},
   "source": [
    "Maze 25x25"
   ]
  },
  {
   "cell_type": "code",
   "execution_count": 162,
   "metadata": {},
   "outputs": [],
   "source": [
    "START=(1, 1)\n",
    "GOAL=(24,24)"
   ]
  },
  {
   "cell_type": "code",
   "execution_count": 163,
   "metadata": {},
   "outputs": [],
   "source": [
    "def Find_the_edges(maze):\n",
    "    '''\n",
    "    para1: numpy array of the maze structure\n",
    "    return graph of the connected nodes\n",
    "    '''\n",
    "    graph={}\n",
    "    grid_size=len(maze)\n",
    "    for i in range(grid_size):\n",
    "        for j in range(grid_size):\n",
    "            if(maze[i][j]!=1):\n",
    "                adj=[]\n",
    "                eles=[]\n",
    "                if i - 1 >= 0:\n",
    "                    eles.append((i-1,j))\n",
    "                if i + 1 < grid_size:\n",
    "                    eles.append((i+1,j))\n",
    "                if j - 1 >=0:\n",
    "                    eles.append((i,j-1))\n",
    "                if j+1< grid_size:\n",
    "                    eles.append((i,j+1))\n",
    "                for ele in eles:\n",
    "                    if maze[ele[0]][ele[1]] == 0 or maze[ele[0]][ele[1]]=='3' :\n",
    "                        adj.append((ele[0],ele[1]))\n",
    "                graph[(i,j)]=adj\n",
    "    return graph"
   ]
  },
  {
   "cell_type": "markdown",
   "metadata": {},
   "source": [
    "### Task - 2"
   ]
  },
  {
   "cell_type": "markdown",
   "metadata": {},
   "source": [
    "A* algorithm requires a heuristic function. You will try two following heuristics:\n",
    "- Euclidean distance between the cell coordinates\n",
    "- Manhattan distance between the cell coordinates "
   ]
  },
  {
   "cell_type": "markdown",
   "metadata": {},
   "source": [
    "# Euclidean distance"
   ]
  },
  {
   "cell_type": "code",
   "execution_count": 164,
   "metadata": {},
   "outputs": [],
   "source": [
    "def Euclidean_distance(node1, node2):\n",
    "    '''\n",
    "    para1: is a tuple which contains the coorinates of the source node\n",
    "    para2: is a tuple which contains the coorinates of the source node\n",
    "    return: Euclidean distance between the 2 nodes\n",
    "    '''\n",
    "    return ((node1[0] - node2[0])**2 + (node1[1] - node2[1])**2)**0.5\n",
    "    pass\n",
    "\n"
   ]
  },
  {
   "cell_type": "markdown",
   "metadata": {},
   "source": [
    "# A* Search"
   ]
  },
  {
   "cell_type": "markdown",
   "metadata": {},
   "source": [
    "### Weight = 1"
   ]
  },
  {
   "cell_type": "code",
   "execution_count": 165,
   "metadata": {},
   "outputs": [
    {
     "data": {
      "text/plain": [
       "'\\nvisited nodes - mark them as -3 in maze numpy array \\npath- mark them as -1 in maze numpy array\\nand Visualize the maze\\n'"
      ]
     },
     "execution_count": 165,
     "metadata": {},
     "output_type": "execute_result"
    }
   ],
   "source": [
    "import heapq\n",
    "\n",
    "class PriorityQueue:\n",
    "    def __init__(self):\n",
    "        self.elements = []\n",
    "    \n",
    "    def empty(self) -> bool:\n",
    "        return not self.elements\n",
    "    \n",
    "    def put(self, item, priority):\n",
    "        heapq.heappush(self.elements, (priority, item))\n",
    "    \n",
    "    def get(self):\n",
    "        return heapq.heappop(self.elements)[1]\n",
    "\n",
    "def astar_path(graph, start, goal):\n",
    "    '''\n",
    "    para1: connected graph\n",
    "    para2: Starting node\n",
    "    para3: ending Node\n",
    "    return1: list of visited nodes\n",
    "    return2: nodes of shortest path\n",
    "    '''\n",
    "    frontier = PriorityQueue()\n",
    "    frontier.put(start, 0)\n",
    "    came_from= {}\n",
    "    cost_so_far= {}\n",
    "    came_from[start] = None\n",
    "    cost_so_far[start] = 0\n",
    "    W=1\n",
    "    while not frontier.empty():\n",
    "        current = frontier.get()\n",
    "        if current == goal:\n",
    "            break\n",
    "        #print(graph[current])\n",
    "        for next in (graph[current]):\n",
    "            maze1[current]=-1\n",
    "            new_cost = cost_so_far[current] + 1\n",
    "            if next not in cost_so_far or new_cost < cost_so_far[next]:\n",
    "                cost_so_far[next] = new_cost\n",
    "                ######\n",
    "                #you can make the interface of 'astar_path' more robust by providing a heuristic as a parameter\n",
    "                ###\n",
    "                priority = new_cost + W*Euclidean_distance(next, goal)\n",
    "                frontier.put(next, priority)\n",
    "                came_from[next] = current\n",
    "    current= goal\n",
    "    path = []\n",
    "    while current != start: \n",
    "        path.append(current)\n",
    "        #print(came_from[current])\n",
    "        current = came_from[current]\n",
    "    path.append(start) \n",
    "    path.reverse() \n",
    "    return came_from, path\n",
    "'''\n",
    "visited nodes - mark them as -3 in maze numpy array \n",
    "path- mark them as -1 in maze numpy array\n",
    "and Visualize the maze\n",
    "'''    "
   ]
  },
  {
   "cell_type": "code",
   "execution_count": 166,
   "metadata": {},
   "outputs": [],
   "source": [
    "#example for visualization of maze with visited nodes and shortest path\n",
    "# visited nodes are marked by '-3', the final path is marked by '-1'.\n",
    "maze1=build_maze(\"maze_25x25.txt\")\n",
    "graph=Find_the_edges(maze1)\n",
    "visited, path = astar_path(graph, START, GOAL)\n",
    "for i in visited:\n",
    "    maze1[i[0],i[1]]=-3\n",
    "for i in path:\n",
    "    maze1[i[0],i[1]]=-1"
   ]
  },
  {
   "cell_type": "code",
   "execution_count": 167,
   "metadata": {},
   "outputs": [
    {
     "data": {
      "text/plain": [
       "<matplotlib.image.AxesImage at 0x268dd64bb20>"
      ]
     },
     "execution_count": 167,
     "metadata": {},
     "output_type": "execute_result"
    },
    {
     "data": {
      "image/png": "[encoded data removed]",
      "text/plain": [
       "<Figure size 432x288 with 1 Axes>"
      ]
     },
     "metadata": {
      "needs_background": "light"
     },
     "output_type": "display_data"
    }
   ],
   "source": [
    "plt.imshow(maze1, cmap='Pastel2')"
   ]
  },
  {
   "cell_type": "code",
   "execution_count": 168,
   "metadata": {},
   "outputs": [
    {
     "name": "stdout",
     "output_type": "stream",
     "text": [
      "Distance of the shortest path: 55\n"
     ]
    }
   ],
   "source": [
    "shortest_path_length = len(path)\n",
    "print(f\"Distance of the shortest path: {shortest_path_length}\")"
   ]
  },
  {
   "cell_type": "markdown",
   "metadata": {},
   "source": [
    "# Manhattan distance"
   ]
  },
  {
   "cell_type": "code",
   "execution_count": 169,
   "metadata": {},
   "outputs": [],
   "source": [
    "# implement the Manhattan distance between the 2 nodes, and update the code for A* accordingly\n",
    "def Manhattan_distance(node1, node2):\n",
    "    '''\n",
    "    para1: is a tuple which contains the coorinates of the source node\n",
    "    para2: is a tuple which contains the coorinates of the source node\n",
    "    return: Manhattan distance between the 2 nodes\n",
    "    '''\n",
    "    x1, y1 = node1\n",
    "    x2, y2 = node2\n",
    "    return abs(x1 - x2) + abs(y1 - y2)\n",
    "#     refer to https://xlinux.nist.gov/dads/HTML/manhattanDistance.html\n",
    "    pass"
   ]
  },
  {
   "cell_type": "markdown",
   "metadata": {},
   "source": [
    "# A* Search "
   ]
  },
  {
   "cell_type": "markdown",
   "metadata": {},
   "source": [
    "### Weight = 1"
   ]
  },
  {
   "cell_type": "code",
   "execution_count": 170,
   "metadata": {},
   "outputs": [
    {
     "data": {
      "text/plain": [
       "'\\nvisited nodes - mark them as -3 in maze numpy array \\npath- mark them as -1 in maze numpy array\\nand Visualize the maze\\n'"
      ]
     },
     "execution_count": 170,
     "metadata": {},
     "output_type": "execute_result"
    }
   ],
   "source": [
    "import heapq\n",
    "\n",
    "class PriorityQueue:\n",
    "    def __init__(self):\n",
    "        self.elements = []\n",
    "    \n",
    "    def empty(self) -> bool:\n",
    "        return not self.elements\n",
    "    \n",
    "    def put(self, item, priority):\n",
    "        heapq.heappush(self.elements, (priority, item))\n",
    "    \n",
    "    def get(self):\n",
    "        return heapq.heappop(self.elements)[1]\n",
    "\n",
    "def astar_path(graph, start, goal):\n",
    "    '''\n",
    "    para1: connected graph\n",
    "    para2: Starting node\n",
    "    para3: ending Node\n",
    "    return1: list of visited nodes\n",
    "    return2: nodes of shortest path\n",
    "    '''\n",
    "    frontier = PriorityQueue()\n",
    "    frontier.put(start, 0)\n",
    "    came_from= {}\n",
    "    cost_so_far= {}\n",
    "    came_from[start] = None\n",
    "    cost_so_far[start] = 0\n",
    "    W=1\n",
    "    while not frontier.empty():\n",
    "        current = frontier.get()\n",
    "        if current == goal:\n",
    "            break\n",
    "        #print(graph[current])\n",
    "        for next in (graph[current]):\n",
    "            maze1[current]=-1\n",
    "            new_cost = cost_so_far[current] + 1\n",
    "            if next not in cost_so_far or new_cost < cost_so_far[next]:\n",
    "                cost_so_far[next] = new_cost\n",
    "                ######\n",
    "                #you can make the interface of 'astar_path' more robust by providing a heuristic as a parameter\n",
    "                ###\n",
    "                priority = new_cost + W*Manhattan_distance(next, goal)\n",
    "                frontier.put(next, priority)\n",
    "                came_from[next] = current\n",
    "    current= goal\n",
    "    path = []\n",
    "    while current != start: \n",
    "        path.append(current)\n",
    "        #print(came_from[current])\n",
    "        current = came_from[current]\n",
    "    path.append(start) \n",
    "    path.reverse() \n",
    "    return came_from, path\n",
    "'''\n",
    "visited nodes - mark them as -3 in maze numpy array \n",
    "path- mark them as -1 in maze numpy array\n",
    "and Visualize the maze\n",
    "'''    "
   ]
  },
  {
   "cell_type": "code",
   "execution_count": 171,
   "metadata": {},
   "outputs": [],
   "source": [
    "#example for visualization of maze with visited nodes and shortest path\n",
    "# visited nodes are marked by '-3', the final path is marked by '-1'.\n",
    "maze1=build_maze(\"maze_25x25.txt\")\n",
    "graph=Find_the_edges(maze1)\n",
    "visited, path = astar_path(graph, START, GOAL)\n",
    "for i in visited:\n",
    "    maze1[i[0],i[1]]=-3\n",
    "for i in path:\n",
    "    maze1[i[0],i[1]]=-1"
   ]
  },
  {
   "cell_type": "code",
   "execution_count": 172,
   "metadata": {},
   "outputs": [
    {
     "data": {
      "text/plain": [
       "<matplotlib.image.AxesImage at 0x268dd729340>"
      ]
     },
     "execution_count": 172,
     "metadata": {},
     "output_type": "execute_result"
    },
    {
     "data": {
      "image/png": "[encoded data removed]",
      "text/plain": [
       "<Figure size 432x288 with 1 Axes>"
      ]
     },
     "metadata": {
      "needs_background": "light"
     },
     "output_type": "display_data"
    }
   ],
   "source": [
    "plt.imshow(maze1, cmap='Pastel2')"
   ]
  },
  {
   "cell_type": "code",
   "execution_count": 173,
   "metadata": {},
   "outputs": [
    {
     "name": "stdout",
     "output_type": "stream",
     "text": [
      "Distance of the shortest path: 55\n",
      "248\n"
     ]
    }
   ],
   "source": [
    "shortest_path_length = len(path)\n",
    "print(f\"Distance of the shortest path: {shortest_path_length}\")\n",
    "print(len(visited))"
   ]
  },
  {
   "cell_type": "markdown",
   "metadata": {},
   "source": []
  },
  {
   "cell_type": "markdown",
   "metadata": {},
   "source": [
    "### Task - 3\n"
   ]
  },
  {
   "cell_type": "markdown",
   "metadata": {},
   "source": [
    "In this task we will solve the maze with 4 different weights, W, in A* for each of the heurstic function mentioned above. Visualize the solution for each W and each heurstic on a separate plot in the same format as in the examle above (see cell 17). ***Chose a broad set of values for W to see the difference.***"
   ]
  },
  {
   "cell_type": "markdown",
   "metadata": {},
   "source": [
    "# Euclidean distance"
   ]
  },
  {
   "cell_type": "code",
   "execution_count": 174,
   "metadata": {},
   "outputs": [],
   "source": [
    "Weights_Euclidean=[]\n",
    "TimeTaken_Euclidean=[]\n",
    "SearchSpaces_Euclidean=[]"
   ]
  },
  {
   "cell_type": "markdown",
   "metadata": {},
   "source": [
    "### Weight = 0.1"
   ]
  },
  {
   "cell_type": "code",
   "execution_count": 175,
   "metadata": {},
   "outputs": [
    {
     "data": {
      "text/plain": [
       "'\\nvisited nodes - mark them as -3 in maze numpy array \\npath- mark them as -1 in maze numpy array\\nand Visualize the maze\\n'"
      ]
     },
     "execution_count": 175,
     "metadata": {},
     "output_type": "execute_result"
    }
   ],
   "source": [
    "import heapq\n",
    "import time\n",
    "\n",
    "class PriorityQueue:\n",
    "    def __init__(self):\n",
    "        self.elements = []\n",
    "    \n",
    "    def empty(self) -> bool:\n",
    "        return not self.elements\n",
    "    \n",
    "    def put(self, item, priority):\n",
    "        heapq.heappush(self.elements, (priority, item))\n",
    "    \n",
    "    def get(self):\n",
    "        return heapq.heappop(self.elements)[1]\n",
    "\n",
    "def astar_path(graph, start, goal):\n",
    "    '''\n",
    "    para1: connected graph\n",
    "    para2: Starting node\n",
    "    para3: ending Node\n",
    "    return1: list of visited nodes\n",
    "    return2: nodes of shortest path\n",
    "    '''\n",
    "    start_time = time.perf_counter()\n",
    "    frontier = PriorityQueue()\n",
    "    frontier.put(start, 0)\n",
    "    came_from= {}\n",
    "    cost_so_far= {}\n",
    "    came_from[start] = None\n",
    "    cost_so_far[start] = 0\n",
    "    W=0.1\n",
    "    # Initialize a set for visited nodes\n",
    "    visited_nodes = set()\n",
    "    \n",
    "    while not frontier.empty():\n",
    "        current = frontier.get()\n",
    "        if current == goal:\n",
    "            break\n",
    "        visited_nodes.add(current)\n",
    "        #print(graph[current])\n",
    "        for next in (graph[current]):\n",
    "            maze1[current]=-1\n",
    "            new_cost = cost_so_far[current] + 1\n",
    "            if next not in cost_so_far or new_cost < cost_so_far[next]:\n",
    "                cost_so_far[next] = new_cost\n",
    "                ######\n",
    "                #you can make the interface of 'astar_path' more robust by providing a heuristic as a parameter\n",
    "                ###\n",
    "                priority = new_cost + W*Euclidean_distance(next, goal)\n",
    "                frontier.put(next, priority)\n",
    "                came_from[next] = current\n",
    "    current= goal\n",
    "    path = []\n",
    "    while current != start: \n",
    "        path.append(current)\n",
    "        #print(came_from[current])\n",
    "        current = came_from[current]\n",
    "    path.append(start) \n",
    "    path.reverse() \n",
    "    expanded_nodes = len(visited_nodes)\n",
    "    end_time = time.perf_counter()\n",
    "    elapsed_time = end_time - start_time\n",
    "    Weights_Euclidean.append(0.1)\n",
    "    SearchSpaces_Euclidean.append(expanded_nodes)\n",
    "    TimeTaken_Euclidean.append(elapsed_time)\n",
    "    return came_from, path\n",
    "'''\n",
    "visited nodes - mark them as -3 in maze numpy array \n",
    "path- mark them as -1 in maze numpy array\n",
    "and Visualize the maze\n",
    "'''    "
   ]
  },
  {
   "cell_type": "code",
   "execution_count": 176,
   "metadata": {},
   "outputs": [],
   "source": [
    "#example for visualization of maze with visited nodes and shortest path\n",
    "# visited nodes are marked by '-3', the final path is marked by '-1'.\n",
    "maze1=build_maze(\"maze_25x25.txt\")\n",
    "graph=Find_the_edges(maze1)\n",
    "visited, path = astar_path(graph, START, GOAL)\n",
    "for i in visited:\n",
    "    maze1[i[0],i[1]]=-3\n",
    "for i in path:\n",
    "    maze1[i[0],i[1]]=-1"
   ]
  },
  {
   "cell_type": "code",
   "execution_count": 177,
   "metadata": {},
   "outputs": [
    {
     "data": {
      "text/plain": [
       "<matplotlib.image.AxesImage at 0x268dd7c0d00>"
      ]
     },
     "execution_count": 177,
     "metadata": {},
     "output_type": "execute_result"
    },
    {
     "data": {
      "image/png": "[encoded data removed]",
      "text/plain": [
       "<Figure size 432x288 with 1 Axes>"
      ]
     },
     "metadata": {
      "needs_background": "light"
     },
     "output_type": "display_data"
    }
   ],
   "source": [
    "plt.imshow(maze1, cmap='Pastel2')"
   ]
  },
  {
   "cell_type": "code",
   "execution_count": 178,
   "metadata": {},
   "outputs": [
    {
     "name": "stdout",
     "output_type": "stream",
     "text": [
      "Distance of the shortest path: 55\n"
     ]
    }
   ],
   "source": [
    "shortest_path_length = len(path)\n",
    "print(f\"Distance of the shortest path: {shortest_path_length}\")"
   ]
  },
  {
   "cell_type": "markdown",
   "metadata": {},
   "source": [
    "### Weight = 0.5"
   ]
  },
  {
   "cell_type": "code",
   "execution_count": 179,
   "metadata": {},
   "outputs": [
    {
     "data": {
      "text/plain": [
       "'\\nvisited nodes - mark them as -3 in maze numpy array \\npath- mark them as -1 in maze numpy array\\nand Visualize the maze\\n'"
      ]
     },
     "execution_count": 179,
     "metadata": {},
     "output_type": "execute_result"
    }
   ],
   "source": [
    "import heapq\n",
    "import time\n",
    "\n",
    "class PriorityQueue:\n",
    "    def __init__(self):\n",
    "        self.elements = []\n",
    "    \n",
    "    def empty(self) -> bool:\n",
    "        return not self.elements\n",
    "    \n",
    "    def put(self, item, priority):\n",
    "        heapq.heappush(self.elements, (priority, item))\n",
    "    \n",
    "    def get(self):\n",
    "        return heapq.heappop(self.elements)[1]\n",
    "\n",
    "def astar_path(graph, start, goal):\n",
    "    '''\n",
    "    para1: connected graph\n",
    "    para2: Starting node\n",
    "    para3: ending Node\n",
    "    return1: list of visited nodes\n",
    "    return2: nodes of shortest path\n",
    "    '''\n",
    "    start_time = time.perf_counter()\n",
    "    frontier = PriorityQueue()\n",
    "    frontier.put(start, 0)\n",
    "    came_from= {}\n",
    "    cost_so_far= {}\n",
    "    came_from[start] = None\n",
    "    cost_so_far[start] = 0\n",
    "    W=0.5\n",
    "    # Initialize a set for visited nodes\n",
    "    visited_nodes = set()\n",
    "    \n",
    "    while not frontier.empty():\n",
    "        current = frontier.get()\n",
    "        if current == goal:\n",
    "            break\n",
    "        visited_nodes.add(current)\n",
    "        #print(graph[current])\n",
    "        for next in (graph[current]):\n",
    "            maze1[current]=-1\n",
    "            new_cost = cost_so_far[current] + 1\n",
    "            if next not in cost_so_far or new_cost < cost_so_far[next]:\n",
    "                cost_so_far[next] = new_cost\n",
    "                ######\n",
    "                #you can make the interface of 'astar_path' more robust by providing a heuristic as a parameter\n",
    "                ###\n",
    "                priority = new_cost + W*Euclidean_distance(next, goal)\n",
    "                frontier.put(next, priority)\n",
    "                came_from[next] = current\n",
    "    current= goal\n",
    "    path = []\n",
    "    while current != start: \n",
    "        path.append(current)\n",
    "        #print(came_from[current])\n",
    "        current = came_from[current]\n",
    "    path.append(start) \n",
    "    path.reverse() \n",
    "    expanded_nodes = len(visited_nodes)\n",
    "    end_time = time.perf_counter()\n",
    "    elapsed_time = end_time - start_time\n",
    "    Weights_Euclidean.append(0.5)\n",
    "    SearchSpaces_Euclidean.append(expanded_nodes)\n",
    "    TimeTaken_Euclidean.append(elapsed_time)\n",
    "    return came_from, path\n",
    "'''\n",
    "visited nodes - mark them as -3 in maze numpy array \n",
    "path- mark them as -1 in maze numpy array\n",
    "and Visualize the maze\n",
    "'''    "
   ]
  },
  {
   "cell_type": "code",
   "execution_count": 180,
   "metadata": {},
   "outputs": [],
   "source": [
    "#example for visualization of maze with visited nodes and shortest path\n",
    "# visited nodes are marked by '-3', the final path is marked by '-1'.\n",
    "maze1=build_maze(\"maze_25x25.txt\")\n",
    "graph=Find_the_edges(maze1)\n",
    "visited, path = astar_path(graph, START, GOAL)\n",
    "for i in visited:\n",
    "    maze1[i[0],i[1]]=-3\n",
    "for i in path:\n",
    "    maze1[i[0],i[1]]=-1"
   ]
  },
  {
   "cell_type": "code",
   "execution_count": 181,
   "metadata": {},
   "outputs": [
    {
     "data": {
      "text/plain": [
       "<matplotlib.image.AxesImage at 0x268dd6fc7f0>"
      ]
     },
     "execution_count": 181,
     "metadata": {},
     "output_type": "execute_result"
    },
    {
     "data": {
      "image/png": "[encoded data removed]",
      "text/plain": [
       "<Figure size 432x288 with 1 Axes>"
      ]
     },
     "metadata": {
      "needs_background": "light"
     },
     "output_type": "display_data"
    }
   ],
   "source": [
    "plt.imshow(maze1, cmap='Pastel2')"
   ]
  },
  {
   "cell_type": "code",
   "execution_count": 182,
   "metadata": {},
   "outputs": [
    {
     "name": "stdout",
     "output_type": "stream",
     "text": [
      "Distance of the shortest path: 55\n"
     ]
    }
   ],
   "source": [
    "shortest_path_length = len(path)\n",
    "print(f\"Distance of the shortest path: {shortest_path_length}\")"
   ]
  },
  {
   "cell_type": "markdown",
   "metadata": {},
   "source": [
    "### Weight = 2"
   ]
  },
  {
   "cell_type": "code",
   "execution_count": 183,
   "metadata": {},
   "outputs": [
    {
     "data": {
      "text/plain": [
       "'\\nvisited nodes - mark them as -3 in maze numpy array \\npath- mark them as -1 in maze numpy array\\nand Visualize the maze\\n'"
      ]
     },
     "execution_count": 183,
     "metadata": {},
     "output_type": "execute_result"
    }
   ],
   "source": [
    "import heapq\n",
    "import time\n",
    "\n",
    "class PriorityQueue:\n",
    "    def __init__(self):\n",
    "        self.elements = []\n",
    "    \n",
    "    def empty(self) -> bool:\n",
    "        return not self.elements\n",
    "    \n",
    "    def put(self, item, priority):\n",
    "        heapq.heappush(self.elements, (priority, item))\n",
    "    \n",
    "    def get(self):\n",
    "        return heapq.heappop(self.elements)[1]\n",
    "\n",
    "def astar_path(graph, start, goal):\n",
    "    '''\n",
    "    para1: connected graph\n",
    "    para2: Starting node\n",
    "    para3: ending Node\n",
    "    return1: list of visited nodes\n",
    "    return2: nodes of shortest path\n",
    "    '''\n",
    "    start_time = time.perf_counter()\n",
    "    frontier = PriorityQueue()\n",
    "    frontier.put(start, 0)\n",
    "    came_from= {}\n",
    "    cost_so_far= {}\n",
    "    came_from[start] = None\n",
    "    cost_so_far[start] = 0\n",
    "    W=2\n",
    "    # Initialize a set for visited nodes\n",
    "    visited_nodes = set()\n",
    "    \n",
    "    while not frontier.empty():\n",
    "        current = frontier.get()\n",
    "        if current == goal:\n",
    "            break\n",
    "        visited_nodes.add(current)\n",
    "        #print(graph[current])\n",
    "        for next in (graph[current]):\n",
    "            maze1[current]=-1\n",
    "            new_cost = cost_so_far[current] + 1\n",
    "            if next not in cost_so_far or new_cost < cost_so_far[next]:\n",
    "                cost_so_far[next] = new_cost\n",
    "                ######\n",
    "                #you can make the interface of 'astar_path' more robust by providing a heuristic as a parameter\n",
    "                ###\n",
    "                priority = new_cost + W*Euclidean_distance(next, goal)\n",
    "                frontier.put(next, priority)\n",
    "                came_from[next] = current\n",
    "    current= goal\n",
    "    path = []\n",
    "    while current != start: \n",
    "        path.append(current)\n",
    "        #print(came_from[current])\n",
    "        current = came_from[current]\n",
    "    path.append(start) \n",
    "    path.reverse() \n",
    "    expanded_nodes = len(visited_nodes)\n",
    "    end_time = time.perf_counter()\n",
    "    elapsed_time = end_time - start_time\n",
    "    Weights_Euclidean.append(2)\n",
    "    SearchSpaces_Euclidean.append(expanded_nodes)\n",
    "    TimeTaken_Euclidean.append(elapsed_time)\n",
    "    return came_from, path\n",
    "'''\n",
    "visited nodes - mark them as -3 in maze numpy array \n",
    "path- mark them as -1 in maze numpy array\n",
    "and Visualize the maze\n",
    "'''    "
   ]
  },
  {
   "cell_type": "code",
   "execution_count": 184,
   "metadata": {},
   "outputs": [],
   "source": [
    "#example for visualization of maze with visited nodes and shortest path\n",
    "# visited nodes are marked by '-3', the final path is marked by '-1'.\n",
    "maze1=build_maze(\"maze_25x25.txt\")\n",
    "graph=Find_the_edges(maze1)\n",
    "visited, path = astar_path(graph, START, GOAL)\n",
    "for i in visited:\n",
    "    maze1[i[0],i[1]]=-3\n",
    "for i in path:\n",
    "    maze1[i[0],i[1]]=-1"
   ]
  },
  {
   "cell_type": "code",
   "execution_count": 185,
   "metadata": {},
   "outputs": [
    {
     "data": {
      "text/plain": [
       "<matplotlib.image.AxesImage at 0x268dab24bb0>"
      ]
     },
     "execution_count": 185,
     "metadata": {},
     "output_type": "execute_result"
    },
    {
     "data": {
      "image/png": "[encoded data removed]",
      "text/plain": [
       "<Figure size 432x288 with 1 Axes>"
      ]
     },
     "metadata": {
      "needs_background": "light"
     },
     "output_type": "display_data"
    }
   ],
   "source": [
    "plt.imshow(maze1, cmap='Pastel2')"
   ]
  },
  {
   "cell_type": "code",
   "execution_count": 186,
   "metadata": {},
   "outputs": [
    {
     "name": "stdout",
     "output_type": "stream",
     "text": [
      "Distance of the shortest path: 55\n"
     ]
    }
   ],
   "source": [
    "shortest_path_length = len(path)\n",
    "print(f\"Distance of the shortest path: {shortest_path_length}\")"
   ]
  },
  {
   "cell_type": "markdown",
   "metadata": {},
   "source": [
    "### Weight = 4"
   ]
  },
  {
   "cell_type": "code",
   "execution_count": 187,
   "metadata": {},
   "outputs": [
    {
     "data": {
      "text/plain": [
       "'\\nvisited nodes - mark them as -3 in maze numpy array \\npath- mark them as -1 in maze numpy array\\nand Visualize the maze\\n'"
      ]
     },
     "execution_count": 187,
     "metadata": {},
     "output_type": "execute_result"
    }
   ],
   "source": [
    "import heapq\n",
    "import time\n",
    "\n",
    "class PriorityQueue:\n",
    "    def __init__(self):\n",
    "        self.elements = []\n",
    "    \n",
    "    def empty(self) -> bool:\n",
    "        return not self.elements\n",
    "    \n",
    "    def put(self, item, priority):\n",
    "        heapq.heappush(self.elements, (priority, item))\n",
    "    \n",
    "    def get(self):\n",
    "        return heapq.heappop(self.elements)[1]\n",
    "\n",
    "def astar_path(graph, start, goal):\n",
    "    '''\n",
    "    para1: connected graph\n",
    "    para2: Starting node\n",
    "    para3: ending Node\n",
    "    return1: list of visited nodes\n",
    "    return2: nodes of shortest path\n",
    "    '''\n",
    "    start_time = time.perf_counter()\n",
    "    frontier = PriorityQueue()\n",
    "    frontier.put(start, 0)\n",
    "    came_from= {}\n",
    "    cost_so_far= {}\n",
    "    came_from[start] = None\n",
    "    cost_so_far[start] = 0\n",
    "    W=4\n",
    "    # Initialize a set for visited nodes\n",
    "    visited_nodes = set()\n",
    "    \n",
    "    while not frontier.empty():\n",
    "        current = frontier.get()\n",
    "        if current == goal:\n",
    "            break\n",
    "        visited_nodes.add(current)\n",
    "        #print(graph[current])\n",
    "        for next in (graph[current]):\n",
    "            maze1[current]=-1\n",
    "            new_cost = cost_so_far[current] + 1\n",
    "            if next not in cost_so_far or new_cost < cost_so_far[next]:\n",
    "                cost_so_far[next] = new_cost\n",
    "                ######\n",
    "                #you can make the interface of 'astar_path' more robust by providing a heuristic as a parameter\n",
    "                ###\n",
    "                priority = new_cost + W*Euclidean_distance(next, goal)\n",
    "                frontier.put(next, priority)\n",
    "                came_from[next] = current\n",
    "    current= goal\n",
    "    path = []\n",
    "    while current != start: \n",
    "        path.append(current)\n",
    "        #print(came_from[current])\n",
    "        current = came_from[current]\n",
    "    path.append(start) \n",
    "    path.reverse() \n",
    "    expanded_nodes = len(visited_nodes)\n",
    "    end_time = time.perf_counter()\n",
    "    elapsed_time = end_time - start_time\n",
    "    Weights_Euclidean.append(4)\n",
    "    SearchSpaces_Euclidean.append(expanded_nodes)\n",
    "    TimeTaken_Euclidean.append(elapsed_time)\n",
    "    return came_from, path\n",
    "'''\n",
    "visited nodes - mark them as -3 in maze numpy array \n",
    "path- mark them as -1 in maze numpy array\n",
    "and Visualize the maze\n",
    "'''    "
   ]
  },
  {
   "cell_type": "code",
   "execution_count": 188,
   "metadata": {},
   "outputs": [],
   "source": [
    "#example for visualization of maze with visited nodes and shortest path\n",
    "# visited nodes are marked by '-3', the final path is marked by '-1'.\n",
    "maze1=build_maze(\"maze_25x25.txt\")\n",
    "graph=Find_the_edges(maze1)\n",
    "visited, path = astar_path(graph, START, GOAL)\n",
    "for i in visited:\n",
    "    maze1[i[0],i[1]]=-3\n",
    "for i in path:\n",
    "    maze1[i[0],i[1]]=-1"
   ]
  },
  {
   "cell_type": "code",
   "execution_count": 189,
   "metadata": {},
   "outputs": [
    {
     "data": {
      "text/plain": [
       "<matplotlib.image.AxesImage at 0x268dda51430>"
      ]
     },
     "execution_count": 189,
     "metadata": {},
     "output_type": "execute_result"
    },
    {
     "data": {
      "image/png": "[encoded data removed]",
      "text/plain": [
       "<Figure size 432x288 with 1 Axes>"
      ]
     },
     "metadata": {
      "needs_background": "light"
     },
     "output_type": "display_data"
    }
   ],
   "source": [
    "plt.imshow(maze1, cmap='Pastel2')"
   ]
  },
  {
   "cell_type": "code",
   "execution_count": 190,
   "metadata": {},
   "outputs": [
    {
     "name": "stdout",
     "output_type": "stream",
     "text": [
      "Distance of the shortest path: 67\n"
     ]
    }
   ],
   "source": [
    "shortest_path_length = len(path)\n",
    "print(f\"Distance of the shortest path: {shortest_path_length}\")"
   ]
  },
  {
   "cell_type": "code",
   "execution_count": 191,
   "metadata": {},
   "outputs": [
    {
     "name": "stdout",
     "output_type": "stream",
     "text": [
      "[0.1, 0.5, 2, 4]\n",
      "[319, 307, 154, 105]\n",
      "[0.0010449000000107844, 0.0010540000000105465, 0.0005552000000079715, 0.00041749999996909537]\n"
     ]
    }
   ],
   "source": [
    "print(Weights_Euclidean)\n",
    "print(SearchSpaces_Euclidean)\n",
    "print(TimeTaken_Euclidean)"
   ]
  },
  {
   "cell_type": "markdown",
   "metadata": {},
   "source": [
    "Explain what changes you observe for the different weights and why it occurs."
   ]
  },
  {
   "cell_type": "markdown",
   "metadata": {},
   "source": [
    "**Here we have chosen weights as 0.1, 0.5, 2, 4 we make the following observations.**\n",
    "\n",
    "\n",
    "    1) Multiplying Heuristic with w < 1 (e.g., w = 0.5):\n",
    "       => When we multiply the heuristic with a weight less than 1, we reduce the heuristic's influence on the A* algorithm. \n",
    "       =>  The algorithm becomes more optimistic and may consider paths that appear shorter based on the adjusted heuristic, This optimism can lead to exploring a larger search space as the algorithm may chase paths that seem promising but are not actually optimal.\n",
    "       => The algorithm may take longer to converge and may explore more paths before finding the optimal solution.\n",
    "              \n",
    "     2) Multiplying Heuristic with w > 1 (e.g., w = 2):\n",
    "       => When you multiply the heuristic with a weight < 1, you amplify the heuristic's influence on the algorithm. \n",
    "       => As a result, the algorithm becomes more pessimistic and may consider paths that appear longer based on the adjusted heuristic, even if they are not necessarily longer in reality. This pessimism can lead to exploring a smaller search space as the algorithm may discard paths that seem longer but are actually optimal.\n",
    "       => The algorithm may converge faster and explore fewer paths before finding the optimal solution."
   ]
  },
  {
   "cell_type": "markdown",
   "metadata": {},
   "source": [
    "# Manhattan distance"
   ]
  },
  {
   "cell_type": "code",
   "execution_count": 192,
   "metadata": {},
   "outputs": [],
   "source": [
    "Weights_Manhattan=[]\n",
    "TimeTaken_Manhattan=[]\n",
    "SearchSpaces_Manhattan=[]"
   ]
  },
  {
   "cell_type": "markdown",
   "metadata": {},
   "source": [
    "### Weight = 0.1"
   ]
  },
  {
   "cell_type": "code",
   "execution_count": 193,
   "metadata": {},
   "outputs": [
    {
     "data": {
      "text/plain": [
       "'\\nvisited nodes - mark them as -3 in maze numpy array \\npath- mark them as -1 in maze numpy array\\nand Visualize the maze\\n'"
      ]
     },
     "execution_count": 193,
     "metadata": {},
     "output_type": "execute_result"
    }
   ],
   "source": [
    "import heapq\n",
    "import time\n",
    "\n",
    "class PriorityQueue:\n",
    "    def __init__(self):\n",
    "        self.elements = []\n",
    "    \n",
    "    def empty(self) -> bool:\n",
    "        return not self.elements\n",
    "    \n",
    "    def put(self, item, priority):\n",
    "        heapq.heappush(self.elements, (priority, item))\n",
    "    \n",
    "    def get(self):\n",
    "        return heapq.heappop(self.elements)[1]\n",
    "\n",
    "def astar_path(graph, start, goal):\n",
    "    '''\n",
    "    para1: connected graph\n",
    "    para2: Starting node\n",
    "    para3: ending Node\n",
    "    return1: list of visited nodes\n",
    "    return2: nodes of shortest path\n",
    "    '''\n",
    "    start_time = time.perf_counter()\n",
    "    frontier = PriorityQueue()\n",
    "    frontier.put(start, 0)\n",
    "    came_from= {}\n",
    "    cost_so_far= {}\n",
    "    came_from[start] = None\n",
    "    cost_so_far[start] = 0\n",
    "    W=0.1\n",
    "    # Initialize a set for visited nodes\n",
    "    visited_nodes = set()\n",
    "    \n",
    "    while not frontier.empty():\n",
    "        current = frontier.get()\n",
    "        if current == goal:\n",
    "            break\n",
    "        visited_nodes.add(current)\n",
    "        #print(graph[current])\n",
    "        for next in (graph[current]):\n",
    "            maze1[current]=-1\n",
    "            new_cost = cost_so_far[current] + 1\n",
    "            if next not in cost_so_far or new_cost < cost_so_far[next]:\n",
    "                cost_so_far[next] = new_cost\n",
    "                ######\n",
    "                #you can make the interface of 'astar_path' more robust by providing a heuristic as a parameter\n",
    "                ###\n",
    "                priority = new_cost + W*Manhattan_distance(next, goal)\n",
    "                frontier.put(next, priority)\n",
    "                came_from[next] = current\n",
    "    current= goal\n",
    "    path = []\n",
    "    while current != start: \n",
    "        path.append(current)\n",
    "        #print(came_from[current])\n",
    "        current = came_from[current]\n",
    "    path.append(start) \n",
    "    path.reverse() \n",
    "    expanded_nodes = len(visited_nodes)\n",
    "    end_time = time.perf_counter()\n",
    "    elapsed_time = end_time - start_time\n",
    "    Weights_Manhattan.append(0.1)\n",
    "    SearchSpaces_Manhattan.append(expanded_nodes)\n",
    "    TimeTaken_Manhattan.append(elapsed_time)\n",
    "    return came_from, path\n",
    "'''\n",
    "visited nodes - mark them as -3 in maze numpy array \n",
    "path- mark them as -1 in maze numpy array\n",
    "and Visualize the maze\n",
    "'''    "
   ]
  },
  {
   "cell_type": "code",
   "execution_count": 194,
   "metadata": {},
   "outputs": [],
   "source": [
    "#example for visualization of maze with visited nodes and shortest path\n",
    "# visited nodes are marked by '-3', the final path is marked by '-1'.\n",
    "maze1=build_maze(\"maze_25x25.txt\")\n",
    "graph=Find_the_edges(maze1)\n",
    "visited, path = astar_path(graph, START, GOAL)\n",
    "for i in visited:\n",
    "    maze1[i[0],i[1]]=-3\n",
    "for i in path:\n",
    "    maze1[i[0],i[1]]=-1"
   ]
  },
  {
   "cell_type": "code",
   "execution_count": 195,
   "metadata": {},
   "outputs": [
    {
     "data": {
      "text/plain": [
       "<matplotlib.image.AxesImage at 0x268dd534bb0>"
      ]
     },
     "execution_count": 195,
     "metadata": {},
     "output_type": "execute_result"
    },
    {
     "data": {
      "image/png": "[encoded data removed]",
      "text/plain": [
       "<Figure size 432x288 with 1 Axes>"
      ]
     },
     "metadata": {
      "needs_background": "light"
     },
     "output_type": "display_data"
    }
   ],
   "source": [
    "plt.imshow(maze1, cmap='Pastel2')"
   ]
  },
  {
   "cell_type": "code",
   "execution_count": 196,
   "metadata": {},
   "outputs": [
    {
     "name": "stdout",
     "output_type": "stream",
     "text": [
      "Distance of the shortest path: 55\n"
     ]
    }
   ],
   "source": [
    "shortest_path_length = len(path)\n",
    "print(f\"Distance of the shortest path: {shortest_path_length}\")"
   ]
  },
  {
   "cell_type": "markdown",
   "metadata": {},
   "source": [
    "### Weight = 0.5"
   ]
  },
  {
   "cell_type": "code",
   "execution_count": 197,
   "metadata": {},
   "outputs": [
    {
     "data": {
      "text/plain": [
       "'\\nvisited nodes - mark them as -3 in maze numpy array \\npath- mark them as -1 in maze numpy array\\nand Visualize the maze\\n'"
      ]
     },
     "execution_count": 197,
     "metadata": {},
     "output_type": "execute_result"
    }
   ],
   "source": [
    "import heapq\n",
    "import time\n",
    "\n",
    "class PriorityQueue:\n",
    "    def __init__(self):\n",
    "        self.elements = []\n",
    "    \n",
    "    def empty(self) -> bool:\n",
    "        return not self.elements\n",
    "    \n",
    "    def put(self, item, priority):\n",
    "        heapq.heappush(self.elements, (priority, item))\n",
    "    \n",
    "    def get(self):\n",
    "        return heapq.heappop(self.elements)[1]\n",
    "\n",
    "def astar_path(graph, start, goal):\n",
    "    '''\n",
    "    para1: connected graph\n",
    "    para2: Starting node\n",
    "    para3: ending Node\n",
    "    return1: list of visited nodes\n",
    "    return2: nodes of shortest path\n",
    "    '''\n",
    "    start_time = time.perf_counter()\n",
    "    frontier = PriorityQueue()\n",
    "    frontier.put(start, 0)\n",
    "    came_from= {}\n",
    "    cost_so_far= {}\n",
    "    came_from[start] = None\n",
    "    cost_so_far[start] = 0\n",
    "    W=0.5\n",
    "    # Initialize a set for visited nodes\n",
    "    visited_nodes = set()\n",
    "    \n",
    "    while not frontier.empty():\n",
    "        current = frontier.get()\n",
    "        if current == goal:\n",
    "            break\n",
    "        visited_nodes.add(current)\n",
    "        #print(graph[current])\n",
    "        for next in (graph[current]):\n",
    "            maze1[current]=-1\n",
    "            new_cost = cost_so_far[current] + 1\n",
    "            if next not in cost_so_far or new_cost < cost_so_far[next]:\n",
    "                cost_so_far[next] = new_cost\n",
    "                ######\n",
    "                #you can make the interface of 'astar_path' more robust by providing a heuristic as a parameter\n",
    "                ###\n",
    "                priority = new_cost + W*Manhattan_distance(next, goal)\n",
    "                frontier.put(next, priority)\n",
    "                came_from[next] = current\n",
    "    current= goal\n",
    "    path = []\n",
    "    while current != start: \n",
    "        path.append(current)\n",
    "        #print(came_from[current])\n",
    "        current = came_from[current]\n",
    "    path.append(start) \n",
    "    path.reverse() \n",
    "    expanded_nodes = len(visited_nodes)\n",
    "    end_time = time.perf_counter()\n",
    "    elapsed_time = end_time - start_time\n",
    "    Weights_Manhattan.append(0.5)\n",
    "    SearchSpaces_Manhattan.append(expanded_nodes)\n",
    "    TimeTaken_Manhattan.append(elapsed_time)\n",
    "    return came_from, path\n",
    "'''\n",
    "visited nodes - mark them as -3 in maze numpy array \n",
    "path- mark them as -1 in maze numpy array\n",
    "and Visualize the maze\n",
    "'''    "
   ]
  },
  {
   "cell_type": "code",
   "execution_count": 198,
   "metadata": {},
   "outputs": [],
   "source": [
    "#example for visualization of maze with visited nodes and shortest path\n",
    "# visited nodes are marked by '-3', the final path is marked by '-1'.\n",
    "maze1=build_maze(\"maze_25x25.txt\")\n",
    "graph=Find_the_edges(maze1)\n",
    "visited, path = astar_path(graph, START, GOAL)\n",
    "for i in visited:\n",
    "    maze1[i[0],i[1]]=-3\n",
    "for i in path:\n",
    "    maze1[i[0],i[1]]=-1"
   ]
  },
  {
   "cell_type": "code",
   "execution_count": 199,
   "metadata": {},
   "outputs": [
    {
     "data": {
      "text/plain": [
       "<matplotlib.image.AxesImage at 0x268dcce7490>"
      ]
     },
     "execution_count": 199,
     "metadata": {},
     "output_type": "execute_result"
    },
    {
     "data": {
      "image/png": "[encoded data removed]",
      "text/plain": [
       "<Figure size 432x288 with 1 Axes>"
      ]
     },
     "metadata": {
      "needs_background": "light"
     },
     "output_type": "display_data"
    }
   ],
   "source": [
    "plt.imshow(maze1, cmap='Pastel2')"
   ]
  },
  {
   "cell_type": "code",
   "execution_count": 200,
   "metadata": {},
   "outputs": [
    {
     "name": "stdout",
     "output_type": "stream",
     "text": [
      "Distance of the shortest path: 55\n"
     ]
    }
   ],
   "source": [
    "shortest_path_length = len(path)\n",
    "print(f\"Distance of the shortest path: {shortest_path_length}\")"
   ]
  },
  {
   "cell_type": "markdown",
   "metadata": {},
   "source": [
    "### Weight = 2"
   ]
  },
  {
   "cell_type": "code",
   "execution_count": 201,
   "metadata": {},
   "outputs": [
    {
     "data": {
      "text/plain": [
       "'\\nvisited nodes - mark them as -3 in maze numpy array \\npath- mark them as -1 in maze numpy array\\nand Visualize the maze\\n'"
      ]
     },
     "execution_count": 201,
     "metadata": {},
     "output_type": "execute_result"
    }
   ],
   "source": [
    "import heapq\n",
    "import time\n",
    "\n",
    "class PriorityQueue:\n",
    "    def __init__(self):\n",
    "        self.elements = []\n",
    "    \n",
    "    def empty(self) -> bool:\n",
    "        return not self.elements\n",
    "    \n",
    "    def put(self, item, priority):\n",
    "        heapq.heappush(self.elements, (priority, item))\n",
    "    \n",
    "    def get(self):\n",
    "        return heapq.heappop(self.elements)[1]\n",
    "\n",
    "def astar_path(graph, start, goal):\n",
    "    '''\n",
    "    para1: connected graph\n",
    "    para2: Starting node\n",
    "    para3: ending Node\n",
    "    return1: list of visited nodes\n",
    "    return2: nodes of shortest path\n",
    "    '''\n",
    "    start_time = time.perf_counter()\n",
    "    frontier = PriorityQueue()\n",
    "    frontier.put(start, 0)\n",
    "    came_from= {}\n",
    "    cost_so_far= {}\n",
    "    came_from[start] = None\n",
    "    cost_so_far[start] = 0\n",
    "    W=2\n",
    "    # Initialize a set for visited nodes\n",
    "    visited_nodes = set()\n",
    "    \n",
    "    while not frontier.empty():\n",
    "        current = frontier.get()\n",
    "        if current == goal:\n",
    "            break\n",
    "        visited_nodes.add(current)\n",
    "        #print(graph[current])\n",
    "        for next in (graph[current]):\n",
    "            maze1[current]=-1\n",
    "            new_cost = cost_so_far[current] + 1\n",
    "            if next not in cost_so_far or new_cost < cost_so_far[next]:\n",
    "                cost_so_far[next] = new_cost\n",
    "                ######\n",
    "                #you can make the interface of 'astar_path' more robust by providing a heuristic as a parameter\n",
    "                ###\n",
    "                priority = new_cost + W*Manhattan_distance(next, goal)\n",
    "                frontier.put(next, priority)\n",
    "                came_from[next] = current\n",
    "    current= goal\n",
    "    path = []\n",
    "    while current != start: \n",
    "        path.append(current)\n",
    "        #print(came_from[current])\n",
    "        current = came_from[current]\n",
    "    path.append(start) \n",
    "    path.reverse() \n",
    "    expanded_nodes = len(visited_nodes)\n",
    "    end_time = time.perf_counter()\n",
    "    elapsed_time = end_time - start_time\n",
    "    Weights_Manhattan.append(2)\n",
    "    SearchSpaces_Manhattan.append(expanded_nodes)\n",
    "    TimeTaken_Manhattan.append(elapsed_time)\n",
    "    return came_from, path\n",
    "'''\n",
    "visited nodes - mark them as -3 in maze numpy array \n",
    "path- mark them as -1 in maze numpy array\n",
    "and Visualize the maze\n",
    "'''    "
   ]
  },
  {
   "cell_type": "code",
   "execution_count": 202,
   "metadata": {},
   "outputs": [],
   "source": [
    "#example for visualization of maze with visited nodes and shortest path\n",
    "# visited nodes are marked by '-3', the final path is marked by '-1'.\n",
    "maze1=build_maze(\"maze_25x25.txt\")\n",
    "graph=Find_the_edges(maze1)\n",
    "visited, path = astar_path(graph, START, GOAL)\n",
    "for i in visited:\n",
    "    maze1[i[0],i[1]]=-3\n",
    "for i in path:\n",
    "    maze1[i[0],i[1]]=-1"
   ]
  },
  {
   "cell_type": "code",
   "execution_count": 203,
   "metadata": {},
   "outputs": [
    {
     "data": {
      "text/plain": [
       "<matplotlib.image.AxesImage at 0x268dd587c70>"
      ]
     },
     "execution_count": 203,
     "metadata": {},
     "output_type": "execute_result"
    },
    {
     "data": {
      "image/png": "[encoded data removed]",
      "text/plain": [
       "<Figure size 432x288 with 1 Axes>"
      ]
     },
     "metadata": {
      "needs_background": "light"
     },
     "output_type": "display_data"
    }
   ],
   "source": [
    "plt.imshow(maze1, cmap='Pastel2')"
   ]
  },
  {
   "cell_type": "code",
   "execution_count": 204,
   "metadata": {},
   "outputs": [
    {
     "name": "stdout",
     "output_type": "stream",
     "text": [
      "Distance of the shortest path: 67\n"
     ]
    }
   ],
   "source": [
    "shortest_path_length = len(path)\n",
    "print(f\"Distance of the shortest path: {shortest_path_length}\")"
   ]
  },
  {
   "cell_type": "markdown",
   "metadata": {},
   "source": [
    "### Weight = 4"
   ]
  },
  {
   "cell_type": "code",
   "execution_count": 205,
   "metadata": {},
   "outputs": [
    {
     "data": {
      "text/plain": [
       "'\\nvisited nodes - mark them as -3 in maze numpy array \\npath- mark them as -1 in maze numpy array\\nand Visualize the maze\\n'"
      ]
     },
     "execution_count": 205,
     "metadata": {},
     "output_type": "execute_result"
    }
   ],
   "source": [
    "import heapq\n",
    "import time\n",
    "\n",
    "class PriorityQueue:\n",
    "    def __init__(self):\n",
    "        self.elements = []\n",
    "    \n",
    "    def empty(self) -> bool:\n",
    "        return not self.elements\n",
    "    \n",
    "    def put(self, item, priority):\n",
    "        heapq.heappush(self.elements, (priority, item))\n",
    "    \n",
    "    def get(self):\n",
    "        return heapq.heappop(self.elements)[1]\n",
    "\n",
    "def astar_path(graph, start, goal):\n",
    "    '''\n",
    "    para1: connected graph\n",
    "    para2: Starting node\n",
    "    para3: ending Node\n",
    "    return1: list of visited nodes\n",
    "    return2: nodes of shortest path\n",
    "    '''\n",
    "    start_time = time.perf_counter()\n",
    "    frontier = PriorityQueue()\n",
    "    frontier.put(start, 0)\n",
    "    came_from= {}\n",
    "    cost_so_far= {}\n",
    "    came_from[start] = None\n",
    "    cost_so_far[start] = 0\n",
    "    W=4\n",
    "    # Initialize a set for visited nodes\n",
    "    visited_nodes = set()\n",
    "    \n",
    "    while not frontier.empty():\n",
    "        current = frontier.get()\n",
    "        if current == goal:\n",
    "            break\n",
    "        visited_nodes.add(current)\n",
    "        #print(graph[current])\n",
    "        for next in (graph[current]):\n",
    "            maze1[current]=-1\n",
    "            new_cost = cost_so_far[current] + 1\n",
    "            if next not in cost_so_far or new_cost < cost_so_far[next]:\n",
    "                cost_so_far[next] = new_cost\n",
    "                ######\n",
    "                #you can make the interface of 'astar_path' more robust by providing a heuristic as a parameter\n",
    "                ###\n",
    "                priority = new_cost + W*Manhattan_distance(next, goal)\n",
    "                frontier.put(next, priority)\n",
    "                came_from[next] = current\n",
    "    current= goal\n",
    "    path = []\n",
    "    while current != start: \n",
    "        path.append(current)\n",
    "        #print(came_from[current])\n",
    "        current = came_from[current]\n",
    "    path.append(start) \n",
    "    path.reverse() \n",
    "    expanded_nodes = len(visited_nodes)\n",
    "    end_time = time.perf_counter()\n",
    "    elapsed_time = end_time - start_time\n",
    "    Weights_Manhattan.append(4)\n",
    "    SearchSpaces_Manhattan.append(expanded_nodes)\n",
    "    TimeTaken_Manhattan.append(elapsed_time)\n",
    "    return came_from, path\n",
    "'''\n",
    "visited nodes - mark them as -3 in maze numpy array \n",
    "path- mark them as -1 in maze numpy array\n",
    "and Visualize the maze\n",
    "'''    "
   ]
  },
  {
   "cell_type": "code",
   "execution_count": 206,
   "metadata": {},
   "outputs": [],
   "source": [
    "#example for visualization of maze with visited nodes and shortest path\n",
    "# visited nodes are marked by '-3', the final path is marked by '-1'.\n",
    "maze1=build_maze(\"maze_25x25.txt\")\n",
    "graph=Find_the_edges(maze1)\n",
    "visited, path = astar_path(graph, START, GOAL)\n",
    "for i in visited:\n",
    "    maze1[i[0],i[1]]=-3\n",
    "for i in path:\n",
    "    maze1[i[0],i[1]]=-1"
   ]
  },
  {
   "cell_type": "code",
   "execution_count": 207,
   "metadata": {},
   "outputs": [
    {
     "data": {
      "text/plain": [
       "<matplotlib.image.AxesImage at 0x268dd9fc2e0>"
      ]
     },
     "execution_count": 207,
     "metadata": {},
     "output_type": "execute_result"
    },
    {
     "data": {
      "image/png": "[encoded data removed]",
      "text/plain": [
       "<Figure size 432x288 with 1 Axes>"
      ]
     },
     "metadata": {
      "needs_background": "light"
     },
     "output_type": "display_data"
    }
   ],
   "source": [
    "plt.imshow(maze1, cmap='Pastel2')"
   ]
  },
  {
   "cell_type": "code",
   "execution_count": 208,
   "metadata": {},
   "outputs": [
    {
     "name": "stdout",
     "output_type": "stream",
     "text": [
      "Distance of the shortest path: 67\n"
     ]
    }
   ],
   "source": [
    "shortest_path_length = len(path)\n",
    "print(f\"Distance of the shortest path: {shortest_path_length}\")"
   ]
  },
  {
   "cell_type": "code",
   "execution_count": 209,
   "metadata": {},
   "outputs": [
    {
     "name": "stdout",
     "output_type": "stream",
     "text": [
      "[0.1, 0.5, 2, 4]\n",
      "[319, 304, 106, 95]\n",
      "[0.0008626000000049316, 0.0008209999999735373, 0.00031370000004926624, 0.0005629000000340056]\n"
     ]
    }
   ],
   "source": [
    "print(Weights_Manhattan)\n",
    "print(SearchSpaces_Manhattan)\n",
    "print(TimeTaken_Manhattan)"
   ]
  },
  {
   "cell_type": "markdown",
   "metadata": {},
   "source": [
    "Explain what changes you observe for the different weights and why it occurs."
   ]
  },
  {
   "cell_type": "markdown",
   "metadata": {},
   "source": [
    "**Here we have chosen weights as 0.1, 0.5, 2, 4 we make the following observations.**\n",
    "\n",
    "\n",
    "    1) Multiplying Heuristic with w < 1 (e.g., w = 0.5):\n",
    "       => When we multiply the heuristic with a weight less than 1, we reduce the heuristic's influence on the A* algorithm. \n",
    "       =>  The algorithm becomes more optimistic and may consider paths that appear shorter based on the adjusted heuristic, This optimism can lead to exploring a larger search space as the algorithm may chase paths that seem promising but are not actually optimal.\n",
    "       => The algorithm may take longer to converge and may explore more paths before finding the optimal solution.\n",
    "              \n",
    "     2) Multiplying Heuristic with w > 1 (e.g., w = 2):\n",
    "       => When you multiply the heuristic with a weight < 1, you amplify the heuristic's influence on the algorithm. \n",
    "       => As a result, the algorithm becomes more pessimistic and may consider paths that appear longer based on the adjusted heuristic, even if they are not necessarily longer in reality. This pessimism can lead to exploring a smaller search space as the algorithm may discard paths that seem longer but are actually optimal.\n",
    "       => The algorithm may converge faster and explore fewer paths before finding the optimal solution."
   ]
  },
  {
   "cell_type": "markdown",
   "metadata": {},
   "source": [
    "### Task - 4"
   ]
  },
  {
   "cell_type": "markdown",
   "metadata": {},
   "source": [
    "# Heuristic: Euclidean Distance"
   ]
  },
  {
   "cell_type": "code",
   "execution_count": 210,
   "metadata": {},
   "outputs": [
    {
     "data": {
      "image/png": "[encoded data removed]",
      "text/plain": [
       "<Figure size 864x360 with 2 Axes>"
      ]
     },
     "metadata": {
      "needs_background": "light"
     },
     "output_type": "display_data"
    }
   ],
   "source": [
    "import matplotlib.pyplot as plt\n",
    "\n",
    "plt.figure(figsize=(12, 5))\n",
    "\n",
    "plt.subplot(121)\n",
    "plt.plot(Weights_Euclidean, TimeTaken_Euclidean, marker='o')\n",
    "plt.title('Time Taken vs. Weights')\n",
    "plt.xlabel('Weight')\n",
    "plt.ylabel('Time Taken (seconds)')\n",
    "\n",
    "plt.subplot(122)\n",
    "plt.plot(Weights_Euclidean, SearchSpaces_Euclidean, marker='o', color='orange')\n",
    "plt.title('Search Space (Expanded Nodes) vs. Weights')\n",
    "plt.xlabel('Weight')\n",
    "plt.ylabel('Expanded Nodes')\n",
    "\n",
    "\n",
    "plt.tight_layout()\n",
    "\n",
    "plt.show()"
   ]
  },
  {
   "cell_type": "markdown",
   "metadata": {},
   "source": [
    "\n",
    "Plot on plt.subplot(121) a) time taken VS Weights\n",
    "\n",
    "Plot on plt.subplot(122) b) search space (expanded nodes) VS Weights\n",
    "\n",
    "-- add titles, axis labels, and legends."
   ]
  },
  {
   "cell_type": "markdown",
   "metadata": {},
   "source": [
    "# Heuristic: Manhattan Distance"
   ]
  },
  {
   "cell_type": "code",
   "execution_count": 211,
   "metadata": {},
   "outputs": [
    {
     "data": {
      "image/png": "[encoded data removed]",
      "text/plain": [
       "<Figure size 864x360 with 2 Axes>"
      ]
     },
     "metadata": {
      "needs_background": "light"
     },
     "output_type": "display_data"
    }
   ],
   "source": [
    "import matplotlib.pyplot as plt\n",
    "\n",
    "plt.figure(figsize=(12, 5))\n",
    "\n",
    "plt.subplot(121)\n",
    "plt.plot(Weights_Manhattan, TimeTaken_Manhattan, marker='o')\n",
    "plt.title('Time Taken vs. Weights')\n",
    "plt.xlabel('Weight')\n",
    "plt.ylabel('Time Taken (seconds)')\n",
    "\n",
    "plt.subplot(122)\n",
    "plt.plot(Weights_Manhattan, SearchSpaces_Manhattan, marker='o', color='orange')\n",
    "plt.title('Search Space (Expanded Nodes) vs. Weights')\n",
    "plt.xlabel('Weight')\n",
    "plt.ylabel('Expanded Nodes')\n",
    "\n",
    "\n",
    "plt.tight_layout()\n",
    "\n",
    "plt.show()"
   ]
  },
  {
   "cell_type": "markdown",
   "metadata": {},
   "source": [
    "### Task - 5"
   ]
  },
  {
   "cell_type": "markdown",
   "metadata": {},
   "source": [
    "Solve the maze with the Dijkstra algorithm, and visualize the solution in the maze. What is the length of the shortest path?"
   ]
  },
  {
   "cell_type": "code",
   "execution_count": 212,
   "metadata": {},
   "outputs": [
    {
     "data": {
      "text/plain": [
       "'\\nvisited nodes - mark them as -3 in maze numpy array \\npath- mark them as -1 in maze numpy array\\nand Visualize the maze\\n'"
      ]
     },
     "execution_count": 212,
     "metadata": {},
     "output_type": "execute_result"
    }
   ],
   "source": [
    "\n",
    "def dijkstra_algorithm(graph, start_node, GOAL):\n",
    "    '''\n",
    "    para1: connected graph \n",
    "    para2: Starting node\n",
    "    para3: ending Node\n",
    "    return1: list of visited nodes\n",
    "    return2: nodes of shortest path\n",
    "    '''\n",
    "    unvisited_nodes = list(graph.keys())\n",
    " \n",
    "    # We'll use this dict to save the cost of visiting each node and update it as we move along the graph   \n",
    "    shortest_path = {}\n",
    " \n",
    "    # We'll use this dict to save the shortest known path to a node found so far\n",
    "    previous_nodes = {}\n",
    " \n",
    "    # We'll use max_value to initialize the \"infinity\" value of the unvisited nodes   \n",
    "    max_value = sys.maxsize\n",
    "    for node in unvisited_nodes:\n",
    "        shortest_path[node] = max_value\n",
    "    # However, we initialize the starting node's value with 0   \n",
    "    shortest_path[start_node] = 0\n",
    "    \n",
    "    # The algorithm executes until we visit all nodes\n",
    "    while GOAL in unvisited_nodes:\n",
    "        # The code block below finds the node with the lowest score\n",
    "        current_min_node = None\n",
    "        for node in unvisited_nodes: # Iterate over the nodes\n",
    "            if current_min_node == None:\n",
    "                current_min_node = node\n",
    "            elif shortest_path[node] < shortest_path[current_min_node]:\n",
    "                current_min_node = node\n",
    "                \n",
    "        # The code block below retrieves the current node's neighbors and updates their distances\n",
    "        neighbors = graph[current_min_node]\n",
    "        for neighbor in neighbors:\n",
    "            tentative_value = shortest_path[current_min_node] + 1 \n",
    "            if tentative_value < shortest_path[neighbor]:\n",
    "                shortest_path[neighbor] = tentative_value\n",
    "                # We also update the best path to the current node\n",
    "                previous_nodes[neighbor] = current_min_node\n",
    " \n",
    "        # After visiting its neighbors, we mark the node as \"visited\"\n",
    "        unvisited_nodes.remove(current_min_node)\n",
    "\n",
    "    current= GOAL\n",
    "    path = []\n",
    "    while current != START: \n",
    "        path.append(current)\n",
    "        #print(previous_nodes[current])\n",
    "        current = previous_nodes[current]\n",
    "    path.append(START) \n",
    "    path.reverse() \n",
    "    return previous_nodes, path\n",
    "'''\n",
    "visited nodes - mark them as -3 in maze numpy array \n",
    "path- mark them as -1 in maze numpy array\n",
    "and Visualize the maze\n",
    "'''    \n"
   ]
  },
  {
   "cell_type": "code",
   "execution_count": 213,
   "metadata": {},
   "outputs": [],
   "source": [
    "#example for visualization of maze with visited nodes and shortest path\n",
    "# visited nodes are marked by '-3', the final path is marked by '-1'.\n",
    "maze1=build_maze(\"maze_25x25.txt\")\n",
    "graph=Find_the_edges(maze1)\n",
    "visited, path = dijkstra_algorithm(graph, START, GOAL)\n",
    "for i in visited:\n",
    "    maze1[i[0],i[1]]=-3\n",
    "for i in path:\n",
    "    maze1[i[0],i[1]]=-1"
   ]
  },
  {
   "cell_type": "code",
   "execution_count": 214,
   "metadata": {},
   "outputs": [
    {
     "data": {
      "text/plain": [
       "<matplotlib.image.AxesImage at 0x268dbf12340>"
      ]
     },
     "execution_count": 214,
     "metadata": {},
     "output_type": "execute_result"
    },
    {
     "data": {
      "image/png": "[encoded data removed]",
      "text/plain": [
       "<Figure size 432x288 with 1 Axes>"
      ]
     },
     "metadata": {
      "needs_background": "light"
     },
     "output_type": "display_data"
    }
   ],
   "source": [
    "plt.imshow(maze1, cmap='Pastel2')"
   ]
  },
  {
   "cell_type": "code",
   "execution_count": 215,
   "metadata": {},
   "outputs": [
    {
     "name": "stdout",
     "output_type": "stream",
     "text": [
      "Distance of the shortest path: 55\n"
     ]
    }
   ],
   "source": [
    "shortest_path_length = len(path)\n",
    "print(f\"Distance of the shortest path: {shortest_path_length}\")"
   ]
  },
  {
   "cell_type": "markdown",
   "metadata": {},
   "source": [
    "### Task - 6"
   ]
  },
  {
   "cell_type": "markdown",
   "metadata": {},
   "source": [
    "Solve the maze with the BFS algorithm, and visualize the solution in the maze. What is the length of the shortest path?"
   ]
  },
  {
   "cell_type": "code",
   "execution_count": 216,
   "metadata": {},
   "outputs": [
    {
     "data": {
      "text/plain": [
       "'\\nvisited nodes - mark them as -3 in maze numpy array \\npath- mark them as -1 in maze numpy array\\nand Visualize the maze\\n'"
      ]
     },
     "execution_count": 216,
     "metadata": {},
     "output_type": "execute_result"
    }
   ],
   "source": [
    "from collections import deque\n",
    "def BreadthFirst(graph, start, goal):\n",
    "    '''\n",
    "    para1: connected graph\n",
    "    para2: Starting node\n",
    "    para3: ending Node\n",
    "    return1: list of visited nodes\n",
    "    return2: nodes of shortest path\n",
    "    '''\n",
    "    queue = deque([([start], start)])\n",
    "    visited = set()\n",
    "    \n",
    "    while queue:\n",
    "        path, current = queue.popleft()\n",
    "        #print(path, current)\n",
    "        if current == goal:\n",
    "            #print( path)\n",
    "            return visited, np.array(path)\n",
    "        if current in visited:\n",
    "            continue\n",
    "        #print(current)\n",
    "        visited.add(current)\n",
    "        for neighbour in graph[current]:\n",
    "            #print(graph[current])\n",
    "            p = list(path)\n",
    "            p.append(neighbour)\n",
    "            queue.append((p, neighbour))\n",
    "    return visited, path\n",
    "'''\n",
    "visited nodes - mark them as -3 in maze numpy array \n",
    "path- mark them as -1 in maze numpy array\n",
    "and Visualize the maze\n",
    "'''    "
   ]
  },
  {
   "cell_type": "code",
   "execution_count": 217,
   "metadata": {},
   "outputs": [],
   "source": [
    "#example for visualization of maze with visited nodes and shortest path\n",
    "# visited nodes are marked by '-3', the final path is marked by '-1'.\n",
    "maze1=build_maze(\"maze_25x25.txt\")\n",
    "graph=Find_the_edges(maze1)\n",
    "visited, path = BreadthFirst(graph, START, GOAL)\n",
    "for i in visited:\n",
    "    maze1[i[0],i[1]]=-3\n",
    "for i in path:\n",
    "    maze1[i[0],i[1]]=-1"
   ]
  },
  {
   "cell_type": "code",
   "execution_count": 218,
   "metadata": {},
   "outputs": [
    {
     "data": {
      "text/plain": [
       "<matplotlib.image.AxesImage at 0x268dad94130>"
      ]
     },
     "execution_count": 218,
     "metadata": {},
     "output_type": "execute_result"
    },
    {
     "data": {
      "image/png": "[encoded data removed]",
      "text/plain": [
       "<Figure size 432x288 with 1 Axes>"
      ]
     },
     "metadata": {
      "needs_background": "light"
     },
     "output_type": "display_data"
    }
   ],
   "source": [
    "plt.imshow(maze1, cmap='Pastel2')"
   ]
  },
  {
   "cell_type": "code",
   "execution_count": 219,
   "metadata": {},
   "outputs": [
    {
     "name": "stdout",
     "output_type": "stream",
     "text": [
      "Distance of the shortest path: 55\n"
     ]
    }
   ],
   "source": [
    "shortest_path_length = len(path)\n",
    "print(f\"Distance of the shortest path: {shortest_path_length}\")"
   ]
  },
  {
   "cell_type": "markdown",
   "metadata": {},
   "source": [
    "### Task - 7"
   ]
  },
  {
   "cell_type": "markdown",
   "metadata": {},
   "source": [
    "Choose 3 random START and GOAL states, and repeat the tasks 2 - 6, and visualize the solution for each. Use W=1 in this task. Explain your observations."
   ]
  },
  {
   "cell_type": "markdown",
   "metadata": {},
   "source": [
    "### START = (10,15), GOAL = (24,24)"
   ]
  },
  {
   "cell_type": "code",
   "execution_count": 220,
   "metadata": {},
   "outputs": [],
   "source": [
    "START=(10,15)\n",
    "GOAL=(24,24)"
   ]
  },
  {
   "cell_type": "code",
   "execution_count": 221,
   "metadata": {},
   "outputs": [],
   "source": [
    "def Find_the_edges(maze):\n",
    "    '''\n",
    "    para1: numpy array of the maze structure\n",
    "    return graph of the connected nodes\n",
    "    '''\n",
    "    graph={}\n",
    "    grid_size=len(maze)\n",
    "    for i in range(grid_size):\n",
    "        for j in range(grid_size):\n",
    "            if(maze[i][j]!=1):\n",
    "                adj=[]\n",
    "                eles=[]\n",
    "                if i - 1 >= 0:\n",
    "                    eles.append((i-1,j))\n",
    "                if i + 1 < grid_size:\n",
    "                    eles.append((i+1,j))\n",
    "                if j - 1 >=0:\n",
    "                    eles.append((i,j-1))\n",
    "                if j+1< grid_size:\n",
    "                    eles.append((i,j+1))\n",
    "                for ele in eles:\n",
    "                    if maze[ele[0]][ele[1]] == 0 or maze[ele[0]][ele[1]]=='3' :\n",
    "                        adj.append((ele[0],ele[1]))\n",
    "                graph[(i,j)]=adj\n",
    "    return graph"
   ]
  },
  {
   "cell_type": "markdown",
   "metadata": {},
   "source": [
    "# Breadth First Search (BFS)"
   ]
  },
  {
   "cell_type": "code",
   "execution_count": 222,
   "metadata": {},
   "outputs": [
    {
     "data": {
      "text/plain": [
       "'\\nvisited nodes - mark them as -3 in maze numpy array \\npath- mark them as -1 in maze numpy array\\nand Visualize the maze\\n'"
      ]
     },
     "execution_count": 222,
     "metadata": {},
     "output_type": "execute_result"
    }
   ],
   "source": [
    "from collections import deque\n",
    "def BreadthFirst(graph, start, goal):\n",
    "    '''\n",
    "    para1: connected graph\n",
    "    para2: Starting node\n",
    "    para3: ending Node\n",
    "    return1: list of visited nodes\n",
    "    return2: nodes of shortest path\n",
    "    '''\n",
    "    queue = deque([([start], start)])\n",
    "    visited = set()\n",
    "    \n",
    "    while queue:\n",
    "        path, current = queue.popleft()\n",
    "        #print(path, current)\n",
    "        if current == goal:\n",
    "            #print( path)\n",
    "            return visited, np.array(path)\n",
    "        if current in visited:\n",
    "            continue\n",
    "        #print(current)\n",
    "        visited.add(current)\n",
    "        for neighbour in graph[current]:\n",
    "            #print(graph[current])\n",
    "            p = list(path)\n",
    "            p.append(neighbour)\n",
    "            queue.append((p, neighbour))\n",
    "    return visited, path\n",
    "'''\n",
    "visited nodes - mark them as -3 in maze numpy array \n",
    "path- mark them as -1 in maze numpy array\n",
    "and Visualize the maze\n",
    "'''    "
   ]
  },
  {
   "cell_type": "code",
   "execution_count": 223,
   "metadata": {},
   "outputs": [],
   "source": [
    "#example for visualization of maze with visited nodes and shortest path\n",
    "# visited nodes are marked by '-3', the final path is marked by '-1'.\n",
    "maze1=build_maze(\"maze_25x25.txt\")\n",
    "graph=Find_the_edges(maze1)\n",
    "visited, path = BreadthFirst(graph, START, GOAL)\n",
    "for i in visited:\n",
    "    maze1[i[0],i[1]]=-3\n",
    "for i in path:\n",
    "    maze1[i[0],i[1]]=-1"
   ]
  },
  {
   "cell_type": "code",
   "execution_count": 224,
   "metadata": {},
   "outputs": [
    {
     "data": {
      "text/plain": [
       "<matplotlib.image.AxesImage at 0x268dcdd71c0>"
      ]
     },
     "execution_count": 224,
     "metadata": {},
     "output_type": "execute_result"
    },
    {
     "data": {
      "image/png": "[encoded data removed]",
      "text/plain": [
       "<Figure size 432x288 with 1 Axes>"
      ]
     },
     "metadata": {
      "needs_background": "light"
     },
     "output_type": "display_data"
    }
   ],
   "source": [
    "plt.imshow(maze1, cmap='Pastel2')"
   ]
  },
  {
   "cell_type": "code",
   "execution_count": 225,
   "metadata": {},
   "outputs": [
    {
     "name": "stdout",
     "output_type": "stream",
     "text": [
      "Distance of the shortest path: 46\n"
     ]
    }
   ],
   "source": [
    "shortest_path_length = len(path)\n",
    "print(f\"Distance of the shortest path: {shortest_path_length}\")"
   ]
  },
  {
   "cell_type": "markdown",
   "metadata": {},
   "source": [
    "# Dijkstra Algorithm"
   ]
  },
  {
   "cell_type": "code",
   "execution_count": 226,
   "metadata": {},
   "outputs": [
    {
     "data": {
      "text/plain": [
       "'\\nvisited nodes - mark them as -3 in maze numpy array \\npath- mark them as -1 in maze numpy array\\nand Visualize the maze\\n'"
      ]
     },
     "execution_count": 226,
     "metadata": {},
     "output_type": "execute_result"
    }
   ],
   "source": [
    "\n",
    "def dijkstra_algorithm(graph, start_node, GOAL):\n",
    "    '''\n",
    "    para1: connected graph \n",
    "    para2: Starting node\n",
    "    para3: ending Node\n",
    "    return1: list of visited nodes\n",
    "    return2: nodes of shortest path\n",
    "    '''\n",
    "    unvisited_nodes = list(graph.keys())\n",
    " \n",
    "    # We'll use this dict to save the cost of visiting each node and update it as we move along the graph   \n",
    "    shortest_path = {}\n",
    " \n",
    "    # We'll use this dict to save the shortest known path to a node found so far\n",
    "    previous_nodes = {}\n",
    " \n",
    "    # We'll use max_value to initialize the \"infinity\" value of the unvisited nodes   \n",
    "    max_value = sys.maxsize\n",
    "    for node in unvisited_nodes:\n",
    "        shortest_path[node] = max_value\n",
    "    # However, we initialize the starting node's value with 0   \n",
    "    shortest_path[start_node] = 0\n",
    "    \n",
    "    # The algorithm executes until we visit all nodes\n",
    "    while GOAL in unvisited_nodes:\n",
    "        # The code block below finds the node with the lowest score\n",
    "        current_min_node = None\n",
    "        for node in unvisited_nodes: # Iterate over the nodes\n",
    "            if current_min_node == None:\n",
    "                current_min_node = node\n",
    "            elif shortest_path[node] < shortest_path[current_min_node]:\n",
    "                current_min_node = node\n",
    "                \n",
    "        # The code block below retrieves the current node's neighbors and updates their distances\n",
    "        neighbors = graph[current_min_node]\n",
    "        for neighbor in neighbors:\n",
    "            tentative_value = shortest_path[current_min_node] + 1 \n",
    "            if tentative_value < shortest_path[neighbor]:\n",
    "                shortest_path[neighbor] = tentative_value\n",
    "                # We also update the best path to the current node\n",
    "                previous_nodes[neighbor] = current_min_node\n",
    " \n",
    "        # After visiting its neighbors, we mark the node as \"visited\"\n",
    "        unvisited_nodes.remove(current_min_node)\n",
    "\n",
    "    current= GOAL\n",
    "    path = []\n",
    "    while current != START: \n",
    "        path.append(current)\n",
    "        #print(previous_nodes[current])\n",
    "        current = previous_nodes[current]\n",
    "    path.append(START) \n",
    "    path.reverse() \n",
    "    return previous_nodes, path\n",
    "'''\n",
    "visited nodes - mark them as -3 in maze numpy array \n",
    "path- mark them as -1 in maze numpy array\n",
    "and Visualize the maze\n",
    "'''    \n"
   ]
  },
  {
   "cell_type": "code",
   "execution_count": 227,
   "metadata": {},
   "outputs": [],
   "source": [
    "#example for visualization of maze with visited nodes and shortest path\n",
    "# visited nodes are marked by '-3', the final path is marked by '-1'.\n",
    "maze1=build_maze(\"maze_25x25.txt\")\n",
    "graph=Find_the_edges(maze1)\n",
    "visited, path = dijkstra_algorithm(graph, START, GOAL)\n",
    "for i in visited:\n",
    "    maze1[i[0],i[1]]=-3\n",
    "for i in path:\n",
    "    maze1[i[0],i[1]]=-1"
   ]
  },
  {
   "cell_type": "code",
   "execution_count": 228,
   "metadata": {},
   "outputs": [
    {
     "data": {
      "text/plain": [
       "<matplotlib.image.AxesImage at 0x268db94ef10>"
      ]
     },
     "execution_count": 228,
     "metadata": {},
     "output_type": "execute_result"
    },
    {
     "data": {
      "image/png": "[encoded data removed]",
      "text/plain": [
       "<Figure size 432x288 with 1 Axes>"
      ]
     },
     "metadata": {
      "needs_background": "light"
     },
     "output_type": "display_data"
    }
   ],
   "source": [
    "plt.imshow(maze1, cmap='Pastel2')"
   ]
  },
  {
   "cell_type": "code",
   "execution_count": 229,
   "metadata": {},
   "outputs": [
    {
     "name": "stdout",
     "output_type": "stream",
     "text": [
      "Distance of the shortest path: 46\n"
     ]
    }
   ],
   "source": [
    "shortest_path_length = len(path)\n",
    "print(f\"Distance of the shortest path: {shortest_path_length}\")"
   ]
  },
  {
   "cell_type": "markdown",
   "metadata": {},
   "source": [
    "# Euclidean distance"
   ]
  },
  {
   "cell_type": "code",
   "execution_count": 230,
   "metadata": {},
   "outputs": [],
   "source": [
    "def Euclidean_distance(node1, node2):\n",
    "    '''\n",
    "    para1: is a tuple which contains the coorinates of the source node\n",
    "    para2: is a tuple which contains the coorinates of the source node\n",
    "    return: Euclidean distance between the 2 nodes\n",
    "    '''\n",
    "    return ((node1[0] - node2[0])**2 + (node1[1] - node2[1])**2)**0.5\n",
    "    pass\n",
    "\n"
   ]
  },
  {
   "cell_type": "markdown",
   "metadata": {},
   "source": [
    "# A* Search\n",
    "Weight = 1"
   ]
  },
  {
   "cell_type": "code",
   "execution_count": 231,
   "metadata": {},
   "outputs": [
    {
     "data": {
      "text/plain": [
       "'\\nvisited nodes - mark them as -3 in maze numpy array \\npath- mark them as -1 in maze numpy array\\nand Visualize the maze\\n'"
      ]
     },
     "execution_count": 231,
     "metadata": {},
     "output_type": "execute_result"
    }
   ],
   "source": [
    "import heapq\n",
    "\n",
    "class PriorityQueue:\n",
    "    def __init__(self):\n",
    "        self.elements = []\n",
    "    \n",
    "    def empty(self) -> bool:\n",
    "        return not self.elements\n",
    "    \n",
    "    def put(self, item, priority):\n",
    "        heapq.heappush(self.elements, (priority, item))\n",
    "    \n",
    "    def get(self):\n",
    "        return heapq.heappop(self.elements)[1]\n",
    "\n",
    "def astar_path(graph, start, goal):\n",
    "    '''\n",
    "    para1: connected graph\n",
    "    para2: Starting node\n",
    "    para3: ending Node\n",
    "    return1: list of visited nodes\n",
    "    return2: nodes of shortest path\n",
    "    '''\n",
    "    frontier = PriorityQueue()\n",
    "    frontier.put(start, 0)\n",
    "    came_from= {}\n",
    "    cost_so_far= {}\n",
    "    came_from[start] = None\n",
    "    cost_so_far[start] = 0\n",
    "    W=1\n",
    "    while not frontier.empty():\n",
    "        current = frontier.get()\n",
    "        if current == goal:\n",
    "            break\n",
    "        #print(graph[current])\n",
    "        for next in (graph[current]):\n",
    "            maze1[current]=-1\n",
    "            new_cost = cost_so_far[current] + 1\n",
    "            if next not in cost_so_far or new_cost < cost_so_far[next]:\n",
    "                cost_so_far[next] = new_cost\n",
    "                ######\n",
    "                #you can make the interface of 'astar_path' more robust by providing a heuristic as a parameter\n",
    "                ###\n",
    "                priority = new_cost + W*Euclidean_distance(next, goal)\n",
    "                frontier.put(next, priority)\n",
    "                came_from[next] = current\n",
    "    current= goal\n",
    "    path = []\n",
    "    while current != start: \n",
    "        path.append(current)\n",
    "        #print(came_from[current])\n",
    "        current = came_from[current]\n",
    "    path.append(start) \n",
    "    path.reverse() \n",
    "    return came_from, path\n",
    "'''\n",
    "visited nodes - mark them as -3 in maze numpy array \n",
    "path- mark them as -1 in maze numpy array\n",
    "and Visualize the maze\n",
    "'''    "
   ]
  },
  {
   "cell_type": "code",
   "execution_count": 232,
   "metadata": {},
   "outputs": [],
   "source": [
    "#example for visualization of maze with visited nodes and shortest path\n",
    "# visited nodes are marked by '-3', the final path is marked by '-1'.\n",
    "maze1=build_maze(\"maze_25x25.txt\")\n",
    "graph=Find_the_edges(maze1)\n",
    "visited, path = astar_path(graph, START, GOAL)\n",
    "for i in visited:\n",
    "    maze1[i[0],i[1]]=-3\n",
    "for i in path:\n",
    "    maze1[i[0],i[1]]=-1"
   ]
  },
  {
   "cell_type": "code",
   "execution_count": 233,
   "metadata": {},
   "outputs": [
    {
     "data": {
      "text/plain": [
       "<matplotlib.image.AxesImage at 0x268dcb88070>"
      ]
     },
     "execution_count": 233,
     "metadata": {},
     "output_type": "execute_result"
    },
    {
     "data": {
      "image/png": "[encoded data removed]",
      "text/plain": [
       "<Figure size 432x288 with 1 Axes>"
      ]
     },
     "metadata": {
      "needs_background": "light"
     },
     "output_type": "display_data"
    }
   ],
   "source": [
    "plt.imshow(maze1, cmap='Pastel2')"
   ]
  },
  {
   "cell_type": "code",
   "execution_count": 234,
   "metadata": {},
   "outputs": [
    {
     "name": "stdout",
     "output_type": "stream",
     "text": [
      "Distance of the shortest path: 46\n"
     ]
    }
   ],
   "source": [
    "shortest_path_length = len(path)\n",
    "print(f\"Distance of the shortest path: {shortest_path_length}\")"
   ]
  },
  {
   "cell_type": "markdown",
   "metadata": {},
   "source": [
    "# Manhattan distance"
   ]
  },
  {
   "cell_type": "code",
   "execution_count": 235,
   "metadata": {},
   "outputs": [],
   "source": [
    "# implement the Manhattan distance between the 2 nodes, and update the code for A* accordingly\n",
    "def Manhattan_distance(node1, node2):\n",
    "    '''\n",
    "    para1: is a tuple which contains the coorinates of the source node\n",
    "    para2: is a tuple which contains the coorinates of the source node\n",
    "    return: Manhattan distance between the 2 nodes\n",
    "    '''\n",
    "    x1, y1 = node1\n",
    "    x2, y2 = node2\n",
    "    return abs(x1 - x2) + abs(y1 - y2)\n",
    "#     refer to https://xlinux.nist.gov/dads/HTML/manhattanDistance.html\n",
    "    pass"
   ]
  },
  {
   "cell_type": "markdown",
   "metadata": {},
   "source": [
    "# A* Search "
   ]
  },
  {
   "cell_type": "markdown",
   "metadata": {},
   "source": [
    "### Weight = 1"
   ]
  },
  {
   "cell_type": "code",
   "execution_count": 236,
   "metadata": {},
   "outputs": [
    {
     "data": {
      "text/plain": [
       "'\\nvisited nodes - mark them as -3 in maze numpy array \\npath- mark them as -1 in maze numpy array\\nand Visualize the maze\\n'"
      ]
     },
     "execution_count": 236,
     "metadata": {},
     "output_type": "execute_result"
    }
   ],
   "source": [
    "import heapq\n",
    "\n",
    "class PriorityQueue:\n",
    "    def __init__(self):\n",
    "        self.elements = []\n",
    "    \n",
    "    def empty(self) -> bool:\n",
    "        return not self.elements\n",
    "    \n",
    "    def put(self, item, priority):\n",
    "        heapq.heappush(self.elements, (priority, item))\n",
    "    \n",
    "    def get(self):\n",
    "        return heapq.heappop(self.elements)[1]\n",
    "\n",
    "def astar_path(graph, start, goal):\n",
    "    '''\n",
    "    para1: connected graph\n",
    "    para2: Starting node\n",
    "    para3: ending Node\n",
    "    return1: list of visited nodes\n",
    "    return2: nodes of shortest path\n",
    "    '''\n",
    "    frontier = PriorityQueue()\n",
    "    frontier.put(start, 0)\n",
    "    came_from= {}\n",
    "    cost_so_far= {}\n",
    "    came_from[start] = None\n",
    "    cost_so_far[start] = 0\n",
    "    W=1\n",
    "    while not frontier.empty():\n",
    "        current = frontier.get()\n",
    "        if current == goal:\n",
    "            break\n",
    "        #print(graph[current])\n",
    "        for next in (graph[current]):\n",
    "            maze1[current]=-1\n",
    "            new_cost = cost_so_far[current] + 1\n",
    "            if next not in cost_so_far or new_cost < cost_so_far[next]:\n",
    "                cost_so_far[next] = new_cost\n",
    "                ######\n",
    "                #you can make the interface of 'astar_path' more robust by providing a heuristic as a parameter\n",
    "                ###\n",
    "                priority = new_cost + W*Manhattan_distance(next, goal)\n",
    "                frontier.put(next, priority)\n",
    "                came_from[next] = current\n",
    "    current= goal\n",
    "    path = []\n",
    "    while current != start: \n",
    "        path.append(current)\n",
    "        #print(came_from[current])\n",
    "        current = came_from[current]\n",
    "    path.append(start) \n",
    "    path.reverse() \n",
    "    return came_from, path\n",
    "'''\n",
    "visited nodes - mark them as -3 in maze numpy array \n",
    "path- mark them as -1 in maze numpy array\n",
    "and Visualize the maze\n",
    "'''    "
   ]
  },
  {
   "cell_type": "code",
   "execution_count": 237,
   "metadata": {},
   "outputs": [],
   "source": [
    "#example for visualization of maze with visited nodes and shortest path\n",
    "# visited nodes are marked by '-3', the final path is marked by '-1'.\n",
    "maze1=build_maze(\"maze_25x25.txt\")\n",
    "graph=Find_the_edges(maze1)\n",
    "visited, path = astar_path(graph, START, GOAL)\n",
    "for i in visited:\n",
    "    maze1[i[0],i[1]]=-3\n",
    "for i in path:\n",
    "    maze1[i[0],i[1]]=-1"
   ]
  },
  {
   "cell_type": "code",
   "execution_count": 238,
   "metadata": {},
   "outputs": [
    {
     "data": {
      "text/plain": [
       "<matplotlib.image.AxesImage at 0x268dad04cd0>"
      ]
     },
     "execution_count": 238,
     "metadata": {},
     "output_type": "execute_result"
    },
    {
     "data": {
      "image/png": "[encoded data removed]",
      "text/plain": [
       "<Figure size 432x288 with 1 Axes>"
      ]
     },
     "metadata": {
      "needs_background": "light"
     },
     "output_type": "display_data"
    }
   ],
   "source": [
    "plt.imshow(maze1, cmap='Pastel2')"
   ]
  },
  {
   "cell_type": "code",
   "execution_count": 239,
   "metadata": {},
   "outputs": [
    {
     "name": "stdout",
     "output_type": "stream",
     "text": [
      "Distance of the shortest path: 46\n"
     ]
    }
   ],
   "source": [
    "shortest_path_length = len(path)\n",
    "print(f\"Distance of the shortest path: {shortest_path_length}\")"
   ]
  },
  {
   "cell_type": "markdown",
   "metadata": {},
   "source": [
    "### START = (3,2), GOAL = (15,24)"
   ]
  },
  {
   "cell_type": "code",
   "execution_count": 240,
   "metadata": {},
   "outputs": [],
   "source": [
    "START=(3,2)\n",
    "GOAL=(15,24)"
   ]
  },
  {
   "cell_type": "code",
   "execution_count": 241,
   "metadata": {},
   "outputs": [],
   "source": [
    "def Find_the_edges(maze):\n",
    "    '''\n",
    "    para1: numpy array of the maze structure\n",
    "    return graph of the connected nodes\n",
    "    '''\n",
    "    graph={}\n",
    "    grid_size=len(maze)\n",
    "    for i in range(grid_size):\n",
    "        for j in range(grid_size):\n",
    "            if(maze[i][j]!=1):\n",
    "                adj=[]\n",
    "                eles=[]\n",
    "                if i - 1 >= 0:\n",
    "                    eles.append((i-1,j))\n",
    "                if i + 1 < grid_size:\n",
    "                    eles.append((i+1,j))\n",
    "                if j - 1 >=0:\n",
    "                    eles.append((i,j-1))\n",
    "                if j+1< grid_size:\n",
    "                    eles.append((i,j+1))\n",
    "                for ele in eles:\n",
    "                    if maze[ele[0]][ele[1]] == 0 or maze[ele[0]][ele[1]]=='3' :\n",
    "                        adj.append((ele[0],ele[1]))\n",
    "                graph[(i,j)]=adj\n",
    "    return graph"
   ]
  },
  {
   "cell_type": "markdown",
   "metadata": {},
   "source": [
    "# Breadth First Search (BFS)"
   ]
  },
  {
   "cell_type": "code",
   "execution_count": 242,
   "metadata": {},
   "outputs": [
    {
     "data": {
      "text/plain": [
       "'\\nvisited nodes - mark them as -3 in maze numpy array \\npath- mark them as -1 in maze numpy array\\nand Visualize the maze\\n'"
      ]
     },
     "execution_count": 242,
     "metadata": {},
     "output_type": "execute_result"
    }
   ],
   "source": [
    "from collections import deque\n",
    "def BreadthFirst(graph, start, goal):\n",
    "    '''\n",
    "    para1: connected graph\n",
    "    para2: Starting node\n",
    "    para3: ending Node\n",
    "    return1: list of visited nodes\n",
    "    return2: nodes of shortest path\n",
    "    '''\n",
    "    queue = deque([([start], start)])\n",
    "    visited = set()\n",
    "    \n",
    "    while queue:\n",
    "        path, current = queue.popleft()\n",
    "        #print(path, current)\n",
    "        if current == goal:\n",
    "            #print( path)\n",
    "            return visited, np.array(path)\n",
    "        if current in visited:\n",
    "            continue\n",
    "        #print(current)\n",
    "        visited.add(current)\n",
    "        for neighbour in graph[current]:\n",
    "            #print(graph[current])\n",
    "            p = list(path)\n",
    "            p.append(neighbour)\n",
    "            queue.append((p, neighbour))\n",
    "    return visited, path\n",
    "'''\n",
    "visited nodes - mark them as -3 in maze numpy array \n",
    "path- mark them as -1 in maze numpy array\n",
    "and Visualize the maze\n",
    "'''    "
   ]
  },
  {
   "cell_type": "code",
   "execution_count": 243,
   "metadata": {},
   "outputs": [],
   "source": [
    "#example for visualization of maze with visited nodes and shortest path\n",
    "# visited nodes are marked by '-3', the final path is marked by '-1'.\n",
    "maze1=build_maze(\"maze_25x25.txt\")\n",
    "graph=Find_the_edges(maze1)\n",
    "visited, path = BreadthFirst(graph, START, GOAL)\n",
    "for i in visited:\n",
    "    maze1[i[0],i[1]]=-3\n",
    "for i in path:\n",
    "    maze1[i[0],i[1]]=-1"
   ]
  },
  {
   "cell_type": "code",
   "execution_count": 244,
   "metadata": {},
   "outputs": [
    {
     "data": {
      "text/plain": [
       "<matplotlib.image.AxesImage at 0x268dcc07df0>"
      ]
     },
     "execution_count": 244,
     "metadata": {},
     "output_type": "execute_result"
    },
    {
     "data": {
      "image/png": "[encoded data removed]",
      "text/plain": [
       "<Figure size 432x288 with 1 Axes>"
      ]
     },
     "metadata": {
      "needs_background": "light"
     },
     "output_type": "display_data"
    }
   ],
   "source": [
    "plt.imshow(maze1, cmap='Pastel2')"
   ]
  },
  {
   "cell_type": "code",
   "execution_count": 245,
   "metadata": {},
   "outputs": [
    {
     "name": "stdout",
     "output_type": "stream",
     "text": [
      "Distance of the shortest path: 55\n"
     ]
    }
   ],
   "source": [
    "shortest_path_length = len(path)\n",
    "print(f\"Distance of the shortest path: {shortest_path_length}\")"
   ]
  },
  {
   "cell_type": "markdown",
   "metadata": {},
   "source": [
    "# Dijkstra Algorithm"
   ]
  },
  {
   "cell_type": "code",
   "execution_count": 246,
   "metadata": {},
   "outputs": [
    {
     "data": {
      "text/plain": [
       "'\\nvisited nodes - mark them as -3 in maze numpy array \\npath- mark them as -1 in maze numpy array\\nand Visualize the maze\\n'"
      ]
     },
     "execution_count": 246,
     "metadata": {},
     "output_type": "execute_result"
    }
   ],
   "source": [
    "\n",
    "def dijkstra_algorithm(graph, start_node, GOAL):\n",
    "    '''\n",
    "    para1: connected graph \n",
    "    para2: Starting node\n",
    "    para3: ending Node\n",
    "    return1: list of visited nodes\n",
    "    return2: nodes of shortest path\n",
    "    '''\n",
    "    unvisited_nodes = list(graph.keys())\n",
    " \n",
    "    # We'll use this dict to save the cost of visiting each node and update it as we move along the graph   \n",
    "    shortest_path = {}\n",
    " \n",
    "    # We'll use this dict to save the shortest known path to a node found so far\n",
    "    previous_nodes = {}\n",
    " \n",
    "    # We'll use max_value to initialize the \"infinity\" value of the unvisited nodes   \n",
    "    max_value = sys.maxsize\n",
    "    for node in unvisited_nodes:\n",
    "        shortest_path[node] = max_value\n",
    "    # However, we initialize the starting node's value with 0   \n",
    "    shortest_path[start_node] = 0\n",
    "    \n",
    "    # The algorithm executes until we visit all nodes\n",
    "    while GOAL in unvisited_nodes:\n",
    "        # The code block below finds the node with the lowest score\n",
    "        current_min_node = None\n",
    "        for node in unvisited_nodes: # Iterate over the nodes\n",
    "            if current_min_node == None:\n",
    "                current_min_node = node\n",
    "            elif shortest_path[node] < shortest_path[current_min_node]:\n",
    "                current_min_node = node\n",
    "                \n",
    "        # The code block below retrieves the current node's neighbors and updates their distances\n",
    "        neighbors = graph[current_min_node]\n",
    "        for neighbor in neighbors:\n",
    "            tentative_value = shortest_path[current_min_node] + 1 \n",
    "            if tentative_value < shortest_path[neighbor]:\n",
    "                shortest_path[neighbor] = tentative_value\n",
    "                # We also update the best path to the current node\n",
    "                previous_nodes[neighbor] = current_min_node\n",
    " \n",
    "        # After visiting its neighbors, we mark the node as \"visited\"\n",
    "        unvisited_nodes.remove(current_min_node)\n",
    "\n",
    "    current= GOAL\n",
    "    path = []\n",
    "    while current != START: \n",
    "        path.append(current)\n",
    "        #print(previous_nodes[current])\n",
    "        current = previous_nodes[current]\n",
    "    path.append(START) \n",
    "    path.reverse() \n",
    "    return previous_nodes, path\n",
    "'''\n",
    "visited nodes - mark them as -3 in maze numpy array \n",
    "path- mark them as -1 in maze numpy array\n",
    "and Visualize the maze\n",
    "'''    \n"
   ]
  },
  {
   "cell_type": "code",
   "execution_count": 247,
   "metadata": {},
   "outputs": [],
   "source": [
    "#example for visualization of maze with visited nodes and shortest path\n",
    "# visited nodes are marked by '-3', the final path is marked by '-1'.\n",
    "maze1=build_maze(\"maze_25x25.txt\")\n",
    "graph=Find_the_edges(maze1)\n",
    "visited, path = dijkstra_algorithm(graph, START, GOAL)\n",
    "for i in visited:\n",
    "    maze1[i[0],i[1]]=-3\n",
    "for i in path:\n",
    "    maze1[i[0],i[1]]=-1"
   ]
  },
  {
   "cell_type": "code",
   "execution_count": 248,
   "metadata": {},
   "outputs": [
    {
     "data": {
      "text/plain": [
       "<matplotlib.image.AxesImage at 0x268dbfd58e0>"
      ]
     },
     "execution_count": 248,
     "metadata": {},
     "output_type": "execute_result"
    },
    {
     "data": {
      "image/png": "[encoded data removed]",
      "text/plain": [
       "<Figure size 432x288 with 1 Axes>"
      ]
     },
     "metadata": {
      "needs_background": "light"
     },
     "output_type": "display_data"
    }
   ],
   "source": [
    "plt.imshow(maze1, cmap='Pastel2')"
   ]
  },
  {
   "cell_type": "code",
   "execution_count": 249,
   "metadata": {},
   "outputs": [
    {
     "name": "stdout",
     "output_type": "stream",
     "text": [
      "Distance of the shortest path: 55\n"
     ]
    }
   ],
   "source": [
    "shortest_path_length = len(path)\n",
    "print(f\"Distance of the shortest path: {shortest_path_length}\")"
   ]
  },
  {
   "cell_type": "markdown",
   "metadata": {},
   "source": [
    "# Euclidean distance"
   ]
  },
  {
   "cell_type": "code",
   "execution_count": 250,
   "metadata": {},
   "outputs": [],
   "source": [
    "def Euclidean_distance(node1, node2):\n",
    "    '''\n",
    "    para1: is a tuple which contains the coorinates of the source node\n",
    "    para2: is a tuple which contains the coorinates of the source node\n",
    "    return: Euclidean distance between the 2 nodes\n",
    "    '''\n",
    "    return ((node1[0] - node2[0])**2 + (node1[1] - node2[1])**2)**0.5\n",
    "    pass\n",
    "\n"
   ]
  },
  {
   "cell_type": "markdown",
   "metadata": {},
   "source": [
    "# A* Search"
   ]
  },
  {
   "cell_type": "markdown",
   "metadata": {},
   "source": [
    "### Weight = 1"
   ]
  },
  {
   "cell_type": "code",
   "execution_count": 251,
   "metadata": {},
   "outputs": [
    {
     "data": {
      "text/plain": [
       "'\\nvisited nodes - mark them as -3 in maze numpy array \\npath- mark them as -1 in maze numpy array\\nand Visualize the maze\\n'"
      ]
     },
     "execution_count": 251,
     "metadata": {},
     "output_type": "execute_result"
    }
   ],
   "source": [
    "import heapq\n",
    "\n",
    "class PriorityQueue:\n",
    "    def __init__(self):\n",
    "        self.elements = []\n",
    "    \n",
    "    def empty(self) -> bool:\n",
    "        return not self.elements\n",
    "    \n",
    "    def put(self, item, priority):\n",
    "        heapq.heappush(self.elements, (priority, item))\n",
    "    \n",
    "    def get(self):\n",
    "        return heapq.heappop(self.elements)[1]\n",
    "\n",
    "def astar_path(graph, start, goal):\n",
    "    '''\n",
    "    para1: connected graph\n",
    "    para2: Starting node\n",
    "    para3: ending Node\n",
    "    return1: list of visited nodes\n",
    "    return2: nodes of shortest path\n",
    "    '''\n",
    "    frontier = PriorityQueue()\n",
    "    frontier.put(start, 0)\n",
    "    came_from= {}\n",
    "    cost_so_far= {}\n",
    "    came_from[start] = None\n",
    "    cost_so_far[start] = 0\n",
    "    W=1\n",
    "    while not frontier.empty():\n",
    "        current = frontier.get()\n",
    "        if current == goal:\n",
    "            break\n",
    "        #print(graph[current])\n",
    "        for next in (graph[current]):\n",
    "            maze1[current]=-1\n",
    "            new_cost = cost_so_far[current] + 1\n",
    "            if next not in cost_so_far or new_cost < cost_so_far[next]:\n",
    "                cost_so_far[next] = new_cost\n",
    "                ######\n",
    "                #you can make the interface of 'astar_path' more robust by providing a heuristic as a parameter\n",
    "                ###\n",
    "                priority = new_cost + W*Euclidean_distance(next, goal)\n",
    "                frontier.put(next, priority)\n",
    "                came_from[next] = current\n",
    "    current= goal\n",
    "    path = []\n",
    "    while current != start: \n",
    "        path.append(current)\n",
    "        #print(came_from[current])\n",
    "        current = came_from[current]\n",
    "    path.append(start) \n",
    "    path.reverse() \n",
    "    return came_from, path\n",
    "'''\n",
    "visited nodes - mark them as -3 in maze numpy array \n",
    "path- mark them as -1 in maze numpy array\n",
    "and Visualize the maze\n",
    "'''    "
   ]
  },
  {
   "cell_type": "code",
   "execution_count": 252,
   "metadata": {},
   "outputs": [],
   "source": [
    "#example for visualization of maze with visited nodes and shortest path\n",
    "# visited nodes are marked by '-3', the final path is marked by '-1'.\n",
    "maze1=build_maze(\"maze_25x25.txt\")\n",
    "graph=Find_the_edges(maze1)\n",
    "visited, path = astar_path(graph, START, GOAL)\n",
    "for i in visited:\n",
    "    maze1[i[0],i[1]]=-3\n",
    "for i in path:\n",
    "    maze1[i[0],i[1]]=-1"
   ]
  },
  {
   "cell_type": "code",
   "execution_count": 253,
   "metadata": {},
   "outputs": [
    {
     "data": {
      "text/plain": [
       "<matplotlib.image.AxesImage at 0x268db445af0>"
      ]
     },
     "execution_count": 253,
     "metadata": {},
     "output_type": "execute_result"
    },
    {
     "data": {
      "image/png": "[encoded data removed]",
      "text/plain": [
       "<Figure size 432x288 with 1 Axes>"
      ]
     },
     "metadata": {
      "needs_background": "light"
     },
     "output_type": "display_data"
    }
   ],
   "source": [
    "plt.imshow(maze1, cmap='Pastel2')"
   ]
  },
  {
   "cell_type": "code",
   "execution_count": 254,
   "metadata": {},
   "outputs": [
    {
     "name": "stdout",
     "output_type": "stream",
     "text": [
      "Distance of the shortest path: 55\n"
     ]
    }
   ],
   "source": [
    "shortest_path_length = len(path)\n",
    "print(f\"Distance of the shortest path: {shortest_path_length}\")"
   ]
  },
  {
   "cell_type": "markdown",
   "metadata": {},
   "source": [
    "# Manhattan distance"
   ]
  },
  {
   "cell_type": "code",
   "execution_count": 255,
   "metadata": {},
   "outputs": [],
   "source": [
    "# implement the Manhattan distance between the 2 nodes, and update the code for A* accordingly\n",
    "def Manhattan_distance(node1, node2):\n",
    "    '''\n",
    "    para1: is a tuple which contains the coorinates of the source node\n",
    "    para2: is a tuple which contains the coorinates of the source node\n",
    "    return: Manhattan distance between the 2 nodes\n",
    "    '''\n",
    "    x1, y1 = node1\n",
    "    x2, y2 = node2\n",
    "    return abs(x1 - x2) + abs(y1 - y2)\n",
    "#     refer to https://xlinux.nist.gov/dads/HTML/manhattanDistance.html\n",
    "    pass"
   ]
  },
  {
   "cell_type": "markdown",
   "metadata": {},
   "source": [
    "# A* Search "
   ]
  },
  {
   "cell_type": "markdown",
   "metadata": {},
   "source": [
    "### Weight = 1"
   ]
  },
  {
   "cell_type": "code",
   "execution_count": 256,
   "metadata": {},
   "outputs": [
    {
     "data": {
      "text/plain": [
       "'\\nvisited nodes - mark them as -3 in maze numpy array \\npath- mark them as -1 in maze numpy array\\nand Visualize the maze\\n'"
      ]
     },
     "execution_count": 256,
     "metadata": {},
     "output_type": "execute_result"
    }
   ],
   "source": [
    "import heapq\n",
    "\n",
    "class PriorityQueue:\n",
    "    def __init__(self):\n",
    "        self.elements = []\n",
    "    \n",
    "    def empty(self) -> bool:\n",
    "        return not self.elements\n",
    "    \n",
    "    def put(self, item, priority):\n",
    "        heapq.heappush(self.elements, (priority, item))\n",
    "    \n",
    "    def get(self):\n",
    "        return heapq.heappop(self.elements)[1]\n",
    "\n",
    "def astar_path(graph, start, goal):\n",
    "    '''\n",
    "    para1: connected graph\n",
    "    para2: Starting node\n",
    "    para3: ending Node\n",
    "    return1: list of visited nodes\n",
    "    return2: nodes of shortest path\n",
    "    '''\n",
    "    frontier = PriorityQueue()\n",
    "    frontier.put(start, 0)\n",
    "    came_from= {}\n",
    "    cost_so_far= {}\n",
    "    came_from[start] = None\n",
    "    cost_so_far[start] = 0\n",
    "    W=1\n",
    "    while not frontier.empty():\n",
    "        current = frontier.get()\n",
    "        if current == goal:\n",
    "            break\n",
    "        #print(graph[current])\n",
    "        for next in (graph[current]):\n",
    "            maze1[current]=-1\n",
    "            new_cost = cost_so_far[current] + 1\n",
    "            if next not in cost_so_far or new_cost < cost_so_far[next]:\n",
    "                cost_so_far[next] = new_cost\n",
    "                ######\n",
    "                #you can make the interface of 'astar_path' more robust by providing a heuristic as a parameter\n",
    "                ###\n",
    "                priority = new_cost + W*Manhattan_distance(next, goal)\n",
    "                frontier.put(next, priority)\n",
    "                came_from[next] = current\n",
    "    current= goal\n",
    "    path = []\n",
    "    while current != start: \n",
    "        path.append(current)\n",
    "        #print(came_from[current])\n",
    "        current = came_from[current]\n",
    "    path.append(start) \n",
    "    path.reverse() \n",
    "    return came_from, path\n",
    "'''\n",
    "visited nodes - mark them as -3 in maze numpy array \n",
    "path- mark them as -1 in maze numpy array\n",
    "and Visualize the maze\n",
    "'''    "
   ]
  },
  {
   "cell_type": "code",
   "execution_count": 257,
   "metadata": {},
   "outputs": [],
   "source": [
    "#example for visualization of maze with visited nodes and shortest path\n",
    "# visited nodes are marked by '-3', the final path is marked by '-1'.\n",
    "maze1=build_maze(\"maze_25x25.txt\")\n",
    "graph=Find_the_edges(maze1)\n",
    "visited, path = astar_path(graph, START, GOAL)\n",
    "for i in visited:\n",
    "    maze1[i[0],i[1]]=-3\n",
    "for i in path:\n",
    "    maze1[i[0],i[1]]=-1"
   ]
  },
  {
   "cell_type": "code",
   "execution_count": 258,
   "metadata": {},
   "outputs": [
    {
     "data": {
      "text/plain": [
       "<matplotlib.image.AxesImage at 0x268db5469a0>"
      ]
     },
     "execution_count": 258,
     "metadata": {},
     "output_type": "execute_result"
    },
    {
     "data": {
      "image/png": "[encoded data removed]",
      "text/plain": [
       "<Figure size 432x288 with 1 Axes>"
      ]
     },
     "metadata": {
      "needs_background": "light"
     },
     "output_type": "display_data"
    }
   ],
   "source": [
    "plt.imshow(maze1, cmap='Pastel2')"
   ]
  },
  {
   "cell_type": "code",
   "execution_count": 259,
   "metadata": {},
   "outputs": [
    {
     "name": "stdout",
     "output_type": "stream",
     "text": [
      "Distance of the shortest path: 55\n"
     ]
    }
   ],
   "source": [
    "shortest_path_length = len(path)\n",
    "print(f\"Distance of the shortest path: {shortest_path_length}\")"
   ]
  },
  {
   "cell_type": "markdown",
   "metadata": {},
   "source": [
    "### START = (7,20), GOAL = (21,2)"
   ]
  },
  {
   "cell_type": "code",
   "execution_count": 260,
   "metadata": {},
   "outputs": [],
   "source": [
    "START=(21,22)\n",
    "GOAL=(1,3)"
   ]
  },
  {
   "cell_type": "code",
   "execution_count": 261,
   "metadata": {},
   "outputs": [],
   "source": [
    "def Find_the_edges(maze):\n",
    "    '''\n",
    "    para1: numpy array of the maze structure\n",
    "    return graph of the connected nodes\n",
    "    '''\n",
    "    graph={}\n",
    "    grid_size=len(maze)\n",
    "    for i in range(grid_size):\n",
    "        for j in range(grid_size):\n",
    "            if(maze[i][j]!=1):\n",
    "                adj=[]\n",
    "                eles=[]\n",
    "                if i - 1 >= 0:\n",
    "                    eles.append((i-1,j))\n",
    "                if i + 1 < grid_size:\n",
    "                    eles.append((i+1,j))\n",
    "                if j - 1 >=0:\n",
    "                    eles.append((i,j-1))\n",
    "                if j+1< grid_size:\n",
    "                    eles.append((i,j+1))\n",
    "                for ele in eles:\n",
    "                    if maze[ele[0]][ele[1]] == 0 or maze[ele[0]][ele[1]]=='3' :\n",
    "                        adj.append((ele[0],ele[1]))\n",
    "                graph[(i,j)]=adj\n",
    "    return graph"
   ]
  },
  {
   "cell_type": "markdown",
   "metadata": {},
   "source": [
    "# Breadth First Search (BFS)"
   ]
  },
  {
   "cell_type": "code",
   "execution_count": 262,
   "metadata": {},
   "outputs": [
    {
     "data": {
      "text/plain": [
       "'\\nvisited nodes - mark them as -3 in maze numpy array \\npath- mark them as -1 in maze numpy array\\nand Visualize the maze\\n'"
      ]
     },
     "execution_count": 262,
     "metadata": {},
     "output_type": "execute_result"
    }
   ],
   "source": [
    "from collections import deque\n",
    "def BreadthFirst(graph, start, goal):\n",
    "    '''\n",
    "    para1: connected graph\n",
    "    para2: Starting node\n",
    "    para3: ending Node\n",
    "    return1: list of visited nodes\n",
    "    return2: nodes of shortest path\n",
    "    '''\n",
    "    queue = deque([([start], start)])\n",
    "    visited = set()\n",
    "    \n",
    "    while queue:\n",
    "        path, current = queue.popleft()\n",
    "        #print(path, current)\n",
    "        if current == goal:\n",
    "            #print( path)\n",
    "            return visited, np.array(path)\n",
    "        if current in visited:\n",
    "            continue\n",
    "        #print(current)\n",
    "        visited.add(current)\n",
    "        for neighbour in graph[current]:\n",
    "            #print(graph[current])\n",
    "            p = list(path)\n",
    "            p.append(neighbour)\n",
    "            queue.append((p, neighbour))\n",
    "    return visited, path\n",
    "'''\n",
    "visited nodes - mark them as -3 in maze numpy array \n",
    "path- mark them as -1 in maze numpy array\n",
    "and Visualize the maze\n",
    "'''    "
   ]
  },
  {
   "cell_type": "code",
   "execution_count": 263,
   "metadata": {},
   "outputs": [],
   "source": [
    "#example for visualization of maze with visited nodes and shortest path\n",
    "# visited nodes are marked by '-3', the final path is marked by '-1'.\n",
    "maze1=build_maze(\"maze_25x25.txt\")\n",
    "graph=Find_the_edges(maze1)\n",
    "visited, path = BreadthFirst(graph, START, GOAL)\n",
    "for i in visited:\n",
    "    maze1[i[0],i[1]]=-3\n",
    "for i in path:\n",
    "    maze1[i[0],i[1]]=-1"
   ]
  },
  {
   "cell_type": "code",
   "execution_count": 264,
   "metadata": {},
   "outputs": [
    {
     "data": {
      "text/plain": [
       "<matplotlib.image.AxesImage at 0x268daf989a0>"
      ]
     },
     "execution_count": 264,
     "metadata": {},
     "output_type": "execute_result"
    },
    {
     "data": {
      "image/png": "[encoded data removed]",
      "text/plain": [
       "<Figure size 432x288 with 1 Axes>"
      ]
     },
     "metadata": {
      "needs_background": "light"
     },
     "output_type": "display_data"
    }
   ],
   "source": [
    "plt.imshow(maze1, cmap='Pastel2')"
   ]
  },
  {
   "cell_type": "code",
   "execution_count": 265,
   "metadata": {},
   "outputs": [
    {
     "name": "stdout",
     "output_type": "stream",
     "text": [
      "Distance of the shortest path: 52\n"
     ]
    }
   ],
   "source": [
    "shortest_path_length = len(path)\n",
    "print(f\"Distance of the shortest path: {shortest_path_length}\")"
   ]
  },
  {
   "cell_type": "markdown",
   "metadata": {},
   "source": [
    "# Dijkstra Algorithm"
   ]
  },
  {
   "cell_type": "code",
   "execution_count": 266,
   "metadata": {},
   "outputs": [
    {
     "data": {
      "text/plain": [
       "'\\nvisited nodes - mark them as -3 in maze numpy array \\npath- mark them as -1 in maze numpy array\\nand Visualize the maze\\n'"
      ]
     },
     "execution_count": 266,
     "metadata": {},
     "output_type": "execute_result"
    }
   ],
   "source": [
    "\n",
    "def dijkstra_algorithm(graph, start_node, GOAL):\n",
    "    '''\n",
    "    para1: connected graph \n",
    "    para2: Starting node\n",
    "    para3: ending Node\n",
    "    return1: list of visited nodes\n",
    "    return2: nodes of shortest path\n",
    "    '''\n",
    "    unvisited_nodes = list(graph.keys())\n",
    " \n",
    "    # We'll use this dict to save the cost of visiting each node and update it as we move along the graph   \n",
    "    shortest_path = {}\n",
    " \n",
    "    # We'll use this dict to save the shortest known path to a node found so far\n",
    "    previous_nodes = {}\n",
    " \n",
    "    # We'll use max_value to initialize the \"infinity\" value of the unvisited nodes   \n",
    "    max_value = sys.maxsize\n",
    "    for node in unvisited_nodes:\n",
    "        shortest_path[node] = max_value\n",
    "    # However, we initialize the starting node's value with 0   \n",
    "    shortest_path[start_node] = 0\n",
    "    \n",
    "    # The algorithm executes until we visit all nodes\n",
    "    while GOAL in unvisited_nodes:\n",
    "        # The code block below finds the node with the lowest score\n",
    "        current_min_node = None\n",
    "        for node in unvisited_nodes: # Iterate over the nodes\n",
    "            if current_min_node == None:\n",
    "                current_min_node = node\n",
    "            elif shortest_path[node] < shortest_path[current_min_node]:\n",
    "                current_min_node = node\n",
    "                \n",
    "        # The code block below retrieves the current node's neighbors and updates their distances\n",
    "        neighbors = graph[current_min_node]\n",
    "        for neighbor in neighbors:\n",
    "            tentative_value = shortest_path[current_min_node] + 1 \n",
    "            if tentative_value < shortest_path[neighbor]:\n",
    "                shortest_path[neighbor] = tentative_value\n",
    "                # We also update the best path to the current node\n",
    "                previous_nodes[neighbor] = current_min_node\n",
    " \n",
    "        # After visiting its neighbors, we mark the node as \"visited\"\n",
    "        unvisited_nodes.remove(current_min_node)\n",
    "\n",
    "    current= GOAL\n",
    "    path = []\n",
    "    while current != START: \n",
    "        path.append(current)\n",
    "        #print(previous_nodes[current])\n",
    "        current = previous_nodes[current]\n",
    "    path.append(START) \n",
    "    path.reverse() \n",
    "    return previous_nodes, path\n",
    "'''\n",
    "visited nodes - mark them as -3 in maze numpy array \n",
    "path- mark them as -1 in maze numpy array\n",
    "and Visualize the maze\n",
    "'''    \n"
   ]
  },
  {
   "cell_type": "code",
   "execution_count": 267,
   "metadata": {},
   "outputs": [],
   "source": [
    "#example for visualization of maze with visited nodes and shortest path\n",
    "# visited nodes are marked by '-3', the final path is marked by '-1'.\n",
    "maze1=build_maze(\"maze_25x25.txt\")\n",
    "graph=Find_the_edges(maze1)\n",
    "visited, path = dijkstra_algorithm(graph, START, GOAL)\n",
    "for i in visited:\n",
    "    maze1[i[0],i[1]]=-3\n",
    "for i in path:\n",
    "    maze1[i[0],i[1]]=-1"
   ]
  },
  {
   "cell_type": "code",
   "execution_count": 268,
   "metadata": {},
   "outputs": [
    {
     "data": {
      "text/plain": [
       "<matplotlib.image.AxesImage at 0x268dd5ad9a0>"
      ]
     },
     "execution_count": 268,
     "metadata": {},
     "output_type": "execute_result"
    },
    {
     "data": {
      "image/png": "[encoded data removed]",
      "text/plain": [
       "<Figure size 432x288 with 1 Axes>"
      ]
     },
     "metadata": {
      "needs_background": "light"
     },
     "output_type": "display_data"
    }
   ],
   "source": [
    "plt.imshow(maze1, cmap='Pastel2')"
   ]
  },
  {
   "cell_type": "code",
   "execution_count": 269,
   "metadata": {},
   "outputs": [
    {
     "name": "stdout",
     "output_type": "stream",
     "text": [
      "Distance of the shortest path: 52\n"
     ]
    }
   ],
   "source": [
    "shortest_path_length = len(path)\n",
    "print(f\"Distance of the shortest path: {shortest_path_length}\")"
   ]
  },
  {
   "cell_type": "markdown",
   "metadata": {},
   "source": [
    "# Euclidean distance"
   ]
  },
  {
   "cell_type": "code",
   "execution_count": 270,
   "metadata": {},
   "outputs": [],
   "source": [
    "def Euclidean_distance(node1, node2):\n",
    "    '''\n",
    "    para1: is a tuple which contains the coorinates of the source node\n",
    "    para2: is a tuple which contains the coorinates of the source node\n",
    "    return: Euclidean distance between the 2 nodes\n",
    "    '''\n",
    "    return ((node1[0] - node2[0])**2 + (node1[1] - node2[1])**2)**0.5\n",
    "    pass\n",
    "\n"
   ]
  },
  {
   "cell_type": "markdown",
   "metadata": {},
   "source": [
    "# A* Search"
   ]
  },
  {
   "cell_type": "markdown",
   "metadata": {},
   "source": [
    "### Weight = 1"
   ]
  },
  {
   "cell_type": "code",
   "execution_count": 271,
   "metadata": {},
   "outputs": [
    {
     "data": {
      "text/plain": [
       "'\\nvisited nodes - mark them as -3 in maze numpy array \\npath- mark them as -1 in maze numpy array\\nand Visualize the maze\\n'"
      ]
     },
     "execution_count": 271,
     "metadata": {},
     "output_type": "execute_result"
    }
   ],
   "source": [
    "import heapq\n",
    "\n",
    "class PriorityQueue:\n",
    "    def __init__(self):\n",
    "        self.elements = []\n",
    "    \n",
    "    def empty(self) -> bool:\n",
    "        return not self.elements\n",
    "    \n",
    "    def put(self, item, priority):\n",
    "        heapq.heappush(self.elements, (priority, item))\n",
    "    \n",
    "    def get(self):\n",
    "        return heapq.heappop(self.elements)[1]\n",
    "\n",
    "def astar_path(graph, start, goal):\n",
    "    '''\n",
    "    para1: connected graph\n",
    "    para2: Starting node\n",
    "    para3: ending Node\n",
    "    return1: list of visited nodes\n",
    "    return2: nodes of shortest path\n",
    "    '''\n",
    "    frontier = PriorityQueue()\n",
    "    frontier.put(start, 0)\n",
    "    came_from= {}\n",
    "    cost_so_far= {}\n",
    "    came_from[start] = None\n",
    "    cost_so_far[start] = 0\n",
    "    W=1\n",
    "    while not frontier.empty():\n",
    "        current = frontier.get()\n",
    "        if current == goal:\n",
    "            break\n",
    "        #print(graph[current])\n",
    "        for next in (graph[current]):\n",
    "            maze1[current]=-1\n",
    "            new_cost = cost_so_far[current] + 1\n",
    "            if next not in cost_so_far or new_cost < cost_so_far[next]:\n",
    "                cost_so_far[next] = new_cost\n",
    "                ######\n",
    "                #you can make the interface of 'astar_path' more robust by providing a heuristic as a parameter\n",
    "                ###\n",
    "                priority = new_cost + W*Euclidean_distance(next, goal)\n",
    "                frontier.put(next, priority)\n",
    "                came_from[next] = current\n",
    "    current= goal\n",
    "    path = []\n",
    "    while current != start: \n",
    "        path.append(current)\n",
    "        #print(came_from[current])\n",
    "        current = came_from[current]\n",
    "    path.append(start) \n",
    "    path.reverse() \n",
    "    return came_from, path\n",
    "'''\n",
    "visited nodes - mark them as -3 in maze numpy array \n",
    "path- mark them as -1 in maze numpy array\n",
    "and Visualize the maze\n",
    "'''    "
   ]
  },
  {
   "cell_type": "code",
   "execution_count": 272,
   "metadata": {},
   "outputs": [],
   "source": [
    "#example for visualization of maze with visited nodes and shortest path\n",
    "# visited nodes are marked by '-3', the final path is marked by '-1'.\n",
    "maze1=build_maze(\"maze_25x25.txt\")\n",
    "graph=Find_the_edges(maze1)\n",
    "visited, path = astar_path(graph, START, GOAL)\n",
    "for i in visited:\n",
    "    maze1[i[0],i[1]]=-3\n",
    "for i in path:\n",
    "    maze1[i[0],i[1]]=-1"
   ]
  },
  {
   "cell_type": "code",
   "execution_count": 273,
   "metadata": {},
   "outputs": [
    {
     "data": {
      "text/plain": [
       "<matplotlib.image.AxesImage at 0x268dc09a280>"
      ]
     },
     "execution_count": 273,
     "metadata": {},
     "output_type": "execute_result"
    },
    {
     "data": {
      "image/png": "[encoded data removed]",
      "text/plain": [
       "<Figure size 432x288 with 1 Axes>"
      ]
     },
     "metadata": {
      "needs_background": "light"
     },
     "output_type": "display_data"
    }
   ],
   "source": [
    "plt.imshow(maze1, cmap='Pastel2')"
   ]
  },
  {
   "cell_type": "code",
   "execution_count": 274,
   "metadata": {},
   "outputs": [
    {
     "name": "stdout",
     "output_type": "stream",
     "text": [
      "Distance of the shortest path: 52\n"
     ]
    }
   ],
   "source": [
    "shortest_path_length = len(path)\n",
    "print(f\"Distance of the shortest path: {shortest_path_length}\")"
   ]
  },
  {
   "cell_type": "markdown",
   "metadata": {},
   "source": [
    "# Manhattan distance"
   ]
  },
  {
   "cell_type": "code",
   "execution_count": 275,
   "metadata": {},
   "outputs": [],
   "source": [
    "# implement the Manhattan distance between the 2 nodes, and update the code for A* accordingly\n",
    "def Manhattan_distance(node1, node2):\n",
    "    '''\n",
    "    para1: is a tuple which contains the coorinates of the source node\n",
    "    para2: is a tuple which contains the coorinates of the source node\n",
    "    return: Manhattan distance between the 2 nodes\n",
    "    '''\n",
    "    x1, y1 = node1\n",
    "    x2, y2 = node2\n",
    "    return abs(x1 - x2) + abs(y1 - y2)\n",
    "#     refer to https://xlinux.nist.gov/dads/HTML/manhattanDistance.html\n",
    "    pass"
   ]
  },
  {
   "cell_type": "markdown",
   "metadata": {},
   "source": [
    "# A* Search "
   ]
  },
  {
   "cell_type": "markdown",
   "metadata": {},
   "source": [
    "### Weight = 1"
   ]
  },
  {
   "cell_type": "code",
   "execution_count": 276,
   "metadata": {},
   "outputs": [
    {
     "data": {
      "text/plain": [
       "'\\nvisited nodes - mark them as -3 in maze numpy array \\npath- mark them as -1 in maze numpy array\\nand Visualize the maze\\n'"
      ]
     },
     "execution_count": 276,
     "metadata": {},
     "output_type": "execute_result"
    }
   ],
   "source": [
    "import heapq\n",
    "\n",
    "class PriorityQueue:\n",
    "    def __init__(self):\n",
    "        self.elements = []\n",
    "    \n",
    "    def empty(self) -> bool:\n",
    "        return not self.elements\n",
    "    \n",
    "    def put(self, item, priority):\n",
    "        heapq.heappush(self.elements, (priority, item))\n",
    "    \n",
    "    def get(self):\n",
    "        return heapq.heappop(self.elements)[1]\n",
    "\n",
    "def astar_path(graph, start, goal):\n",
    "    '''\n",
    "    para1: connected graph\n",
    "    para2: Starting node\n",
    "    para3: ending Node\n",
    "    return1: list of visited nodes\n",
    "    return2: nodes of shortest path\n",
    "    '''\n",
    "    frontier = PriorityQueue()\n",
    "    frontier.put(start, 0)\n",
    "    came_from= {}\n",
    "    cost_so_far= {}\n",
    "    came_from[start] = None\n",
    "    cost_so_far[start] = 0\n",
    "    W=1\n",
    "    while not frontier.empty():\n",
    "        current = frontier.get()\n",
    "        if current == goal:\n",
    "            break\n",
    "        #print(graph[current])\n",
    "        for next in (graph[current]):\n",
    "            maze1[current]=-1\n",
    "            new_cost = cost_so_far[current] + 1\n",
    "            if next not in cost_so_far or new_cost < cost_so_far[next]:\n",
    "                cost_so_far[next] = new_cost\n",
    "                ######\n",
    "                #you can make the interface of 'astar_path' more robust by providing a heuristic as a parameter\n",
    "                ###\n",
    "                priority = new_cost + W*Manhattan_distance(next, goal)\n",
    "                frontier.put(next, priority)\n",
    "                came_from[next] = current\n",
    "    current= goal\n",
    "    path = []\n",
    "    while current != start: \n",
    "        path.append(current)\n",
    "        #print(came_from[current])\n",
    "        current = came_from[current]\n",
    "    path.append(start) \n",
    "    path.reverse() \n",
    "    return came_from, path\n",
    "'''\n",
    "visited nodes - mark them as -3 in maze numpy array \n",
    "path- mark them as -1 in maze numpy array\n",
    "and Visualize the maze\n",
    "'''    "
   ]
  },
  {
   "cell_type": "code",
   "execution_count": 277,
   "metadata": {},
   "outputs": [],
   "source": [
    "#example for visualization of maze with visited nodes and shortest path\n",
    "# visited nodes are marked by '-3', the final path is marked by '-1'.\n",
    "maze1=build_maze(\"maze_25x25.txt\")\n",
    "graph=Find_the_edges(maze1)\n",
    "visited, path = astar_path(graph, START, GOAL)\n",
    "for i in visited:\n",
    "    maze1[i[0],i[1]]=-3\n",
    "for i in path:\n",
    "    maze1[i[0],i[1]]=-1"
   ]
  },
  {
   "cell_type": "code",
   "execution_count": 278,
   "metadata": {},
   "outputs": [
    {
     "data": {
      "text/plain": [
       "<matplotlib.image.AxesImage at 0x268dd891040>"
      ]
     },
     "execution_count": 278,
     "metadata": {},
     "output_type": "execute_result"
    },
    {
     "data": {
      "image/png": "[encoded data removed]",
      "text/plain": [
       "<Figure size 432x288 with 1 Axes>"
      ]
     },
     "metadata": {
      "needs_background": "light"
     },
     "output_type": "display_data"
    }
   ],
   "source": [
    "plt.imshow(maze1, cmap='Pastel2')"
   ]
  },
  {
   "cell_type": "code",
   "execution_count": 279,
   "metadata": {},
   "outputs": [
    {
     "name": "stdout",
     "output_type": "stream",
     "text": [
      "Distance of the shortest path: 52\n"
     ]
    }
   ],
   "source": [
    "shortest_path_length = len(path)\n",
    "print(f\"Distance of the shortest path: {shortest_path_length}\")"
   ]
  },
  {
   "cell_type": "markdown",
   "metadata": {},
   "source": [
    "### Observations:\n",
    "\n",
    "Based on the different start and goal states the path varies in certain cases the path that it takes for BFS, Dijisktra and A* are not the same, Due to increased optimality the A* algorithm doesn't visit all the nodes. Especially in the random start and goal scenario as it doesn't have to travel the entire search space."
   ]
  },
  {
   "cell_type": "markdown",
   "metadata": {},
   "source": [
    "### Task - 8"
   ]
  },
  {
   "cell_type": "markdown",
   "metadata": {},
   "source": [
    "The initally assumation which we made in the Find_the_edges() is the robot can only move in UP, DOWN, LEFT and RIGHT. Now it can move diagonally as well. Modifiy the function and repeat the tasks 1-6 (and visualize the solution for each). Use W=1 in this task (non need in **\"Chose a broad set of values for W to see the difference\"**). Explain your observations"
   ]
  },
  {
   "cell_type": "code",
   "execution_count": 280,
   "metadata": {},
   "outputs": [],
   "source": [
    "START=(1, 1)\n",
    "GOAL=(24,24)"
   ]
  },
  {
   "cell_type": "code",
   "execution_count": 281,
   "metadata": {},
   "outputs": [],
   "source": [
    "def Find_the_edges(maze):\n",
    "    '''\n",
    "    para1: numpy array of the maze structure\n",
    "    return graph of the connected nodes\n",
    "    '''\n",
    "    graph={}\n",
    "    grid_size=len(maze)\n",
    "    for i in range(grid_size):\n",
    "        for j in range(grid_size):\n",
    "            if(maze[i][j]!=1):\n",
    "                adj=[]\n",
    "                eles=[]\n",
    "                if i - 1 >= 0:\n",
    "                    eles.append((i-1,j))\n",
    "                    if j - 1 >=0:\n",
    "                        eles.append((i-1,j-1))\n",
    "                    if j+1< grid_size:\n",
    "                        eles.append((i-1,j+1))\n",
    "                if i + 1 < grid_size:\n",
    "                    eles.append((i+1,j))\n",
    "                    if j - 1 >=0:\n",
    "                        eles.append((i+1,j-1))\n",
    "                    if j+1< grid_size:\n",
    "                        eles.append((i+1,j+1))\n",
    "                if j - 1 >=0:\n",
    "                    eles.append((i,j-1))\n",
    "                if j+1< grid_size:\n",
    "                    eles.append((i,j+1))\n",
    "                for ele in eles:\n",
    "                    if maze[ele[0]][ele[1]] == 0 or maze[ele[0]][ele[1]]=='3' :\n",
    "                        adj.append((ele[0],ele[1]))\n",
    "                graph[(i,j)]=adj\n",
    "    return graph"
   ]
  },
  {
   "cell_type": "markdown",
   "metadata": {},
   "source": [
    "# Breadth First Search (BFS)"
   ]
  },
  {
   "cell_type": "code",
   "execution_count": 282,
   "metadata": {},
   "outputs": [
    {
     "data": {
      "text/plain": [
       "'\\nvisited nodes - mark them as -3 in maze numpy array \\npath- mark them as -1 in maze numpy array\\nand Visualize the maze\\n'"
      ]
     },
     "execution_count": 282,
     "metadata": {},
     "output_type": "execute_result"
    }
   ],
   "source": [
    "from collections import deque\n",
    "def BreadthFirst(graph, start, goal):\n",
    "    '''\n",
    "    para1: connected graph\n",
    "    para2: Starting node\n",
    "    para3: ending Node\n",
    "    return1: list of visited nodes\n",
    "    return2: nodes of shortest path\n",
    "    '''\n",
    "    queue = deque([([start], start)])\n",
    "    visited = set()\n",
    "    \n",
    "    while queue:\n",
    "        path, current = queue.popleft()\n",
    "        #print(path, current)\n",
    "        if current == goal:\n",
    "            #print( path)\n",
    "            return visited, np.array(path)\n",
    "        if current in visited:\n",
    "            continue\n",
    "        #print(current)\n",
    "        visited.add(current)\n",
    "        for neighbour in graph[current]:\n",
    "            #print(graph[current])\n",
    "            p = list(path)\n",
    "            p.append(neighbour)\n",
    "            queue.append((p, neighbour))\n",
    "    return visited, path\n",
    "'''\n",
    "visited nodes - mark them as -3 in maze numpy array \n",
    "path- mark them as -1 in maze numpy array\n",
    "and Visualize the maze\n",
    "'''    "
   ]
  },
  {
   "cell_type": "code",
   "execution_count": 283,
   "metadata": {},
   "outputs": [],
   "source": [
    "#example for visualization of maze with visited nodes and shortest path\n",
    "# visited nodes are marked by '-3', the final path is marked by '-1'.\n",
    "maze1=build_maze(\"maze_25x25.txt\")\n",
    "graph=Find_the_edges(maze1)\n",
    "visited, path = BreadthFirst(graph, START, GOAL)\n",
    "for i in visited:\n",
    "    maze1[i[0],i[1]]=-3\n",
    "for i in path:\n",
    "    maze1[i[0],i[1]]=-1"
   ]
  },
  {
   "cell_type": "code",
   "execution_count": 284,
   "metadata": {},
   "outputs": [
    {
     "data": {
      "text/plain": [
       "<matplotlib.image.AxesImage at 0x268dcc4f700>"
      ]
     },
     "execution_count": 284,
     "metadata": {},
     "output_type": "execute_result"
    },
    {
     "data": {
      "image/png": "[encoded data removed]",
      "text/plain": [
       "<Figure size 432x288 with 1 Axes>"
      ]
     },
     "metadata": {
      "needs_background": "light"
     },
     "output_type": "display_data"
    }
   ],
   "source": [
    "plt.imshow(maze1, cmap='Pastel2')"
   ]
  },
  {
   "cell_type": "code",
   "execution_count": 285,
   "metadata": {},
   "outputs": [
    {
     "name": "stdout",
     "output_type": "stream",
     "text": [
      "Distance of the shortest path: 47\n"
     ]
    }
   ],
   "source": [
    "shortest_path_length = len(path)\n",
    "print(f\"Distance of the shortest path: {shortest_path_length}\")"
   ]
  },
  {
   "cell_type": "markdown",
   "metadata": {},
   "source": [
    "# Dijkstra Algorithm"
   ]
  },
  {
   "cell_type": "code",
   "execution_count": 286,
   "metadata": {},
   "outputs": [
    {
     "data": {
      "text/plain": [
       "'\\nvisited nodes - mark them as -3 in maze numpy array \\npath- mark them as -1 in maze numpy array\\nand Visualize the maze\\n'"
      ]
     },
     "execution_count": 286,
     "metadata": {},
     "output_type": "execute_result"
    }
   ],
   "source": [
    "\n",
    "def dijkstra_algorithm(graph, start_node, GOAL):\n",
    "    '''\n",
    "    para1: connected graph \n",
    "    para2: Starting node\n",
    "    para3: ending Node\n",
    "    return1: list of visited nodes\n",
    "    return2: nodes of shortest path\n",
    "    '''\n",
    "    unvisited_nodes = list(graph.keys())\n",
    " \n",
    "    # We'll use this dict to save the cost of visiting each node and update it as we move along the graph   \n",
    "    shortest_path = {}\n",
    " \n",
    "    # We'll use this dict to save the shortest known path to a node found so far\n",
    "    previous_nodes = {}\n",
    " \n",
    "    # We'll use max_value to initialize the \"infinity\" value of the unvisited nodes   \n",
    "    max_value = sys.maxsize\n",
    "    for node in unvisited_nodes:\n",
    "        shortest_path[node] = max_value\n",
    "    # However, we initialize the starting node's value with 0   \n",
    "    shortest_path[start_node] = 0\n",
    "    \n",
    "    # The algorithm executes until we visit all nodes\n",
    "    while GOAL in unvisited_nodes:\n",
    "        # The code block below finds the node with the lowest score\n",
    "        current_min_node = None\n",
    "        for node in unvisited_nodes: # Iterate over the nodes\n",
    "            if current_min_node == None:\n",
    "                current_min_node = node\n",
    "            elif shortest_path[node] < shortest_path[current_min_node]:\n",
    "                current_min_node = node\n",
    "                \n",
    "        # The code block below retrieves the current node's neighbors and updates their distances\n",
    "        neighbors = graph[current_min_node]\n",
    "        for neighbor in neighbors:\n",
    "            tentative_value = shortest_path[current_min_node] + 1 \n",
    "            if tentative_value < shortest_path[neighbor]:\n",
    "                shortest_path[neighbor] = tentative_value\n",
    "                # We also update the best path to the current node\n",
    "                previous_nodes[neighbor] = current_min_node\n",
    " \n",
    "        # After visiting its neighbors, we mark the node as \"visited\"\n",
    "        unvisited_nodes.remove(current_min_node)\n",
    "\n",
    "    current= GOAL\n",
    "    path = []\n",
    "    while current != START: \n",
    "        path.append(current)\n",
    "        #print(previous_nodes[current])\n",
    "        current = previous_nodes[current]\n",
    "    path.append(START) \n",
    "    path.reverse() \n",
    "    return previous_nodes, path\n",
    "'''\n",
    "visited nodes - mark them as -3 in maze numpy array \n",
    "path- mark them as -1 in maze numpy array\n",
    "and Visualize the maze\n",
    "'''    \n"
   ]
  },
  {
   "cell_type": "code",
   "execution_count": 287,
   "metadata": {},
   "outputs": [],
   "source": [
    "#example for visualization of maze with visited nodes and shortest path\n",
    "# visited nodes are marked by '-3', the final path is marked by '-1'.\n",
    "maze1=build_maze(\"maze_25x25.txt\")\n",
    "graph=Find_the_edges(maze1)\n",
    "visited, path = dijkstra_algorithm(graph, START, GOAL)\n",
    "for i in visited:\n",
    "    maze1[i[0],i[1]]=-3\n",
    "for i in path:\n",
    "    maze1[i[0],i[1]]=-1"
   ]
  },
  {
   "cell_type": "code",
   "execution_count": 288,
   "metadata": {},
   "outputs": [
    {
     "data": {
      "text/plain": [
       "<matplotlib.image.AxesImage at 0x268dab38250>"
      ]
     },
     "execution_count": 288,
     "metadata": {},
     "output_type": "execute_result"
    },
    {
     "data": {
      "image/png": "[encoded data removed]",
      "text/plain": [
       "<Figure size 432x288 with 1 Axes>"
      ]
     },
     "metadata": {
      "needs_background": "light"
     },
     "output_type": "display_data"
    }
   ],
   "source": [
    "plt.imshow(maze1, cmap='Pastel2')"
   ]
  },
  {
   "cell_type": "code",
   "execution_count": 289,
   "metadata": {},
   "outputs": [
    {
     "name": "stdout",
     "output_type": "stream",
     "text": [
      "Distance of the shortest path: 47\n"
     ]
    }
   ],
   "source": [
    "shortest_path_length = len(path)\n",
    "print(f\"Distance of the shortest path: {shortest_path_length}\")"
   ]
  },
  {
   "cell_type": "markdown",
   "metadata": {},
   "source": [
    "# Euclidean distance"
   ]
  },
  {
   "cell_type": "code",
   "execution_count": 290,
   "metadata": {},
   "outputs": [],
   "source": [
    "def Euclidean_distance(node1, node2):\n",
    "    '''\n",
    "    para1: is a tuple which contains the coorinates of the source node\n",
    "    para2: is a tuple which contains the coorinates of the source node\n",
    "    return: Euclidean distance between the 2 nodes\n",
    "    '''\n",
    "    return ((node1[0] - node2[0])**2 + (node1[1] - node2[1])**2)**0.5\n",
    "    pass\n",
    "\n"
   ]
  },
  {
   "cell_type": "markdown",
   "metadata": {},
   "source": [
    "# A* Search"
   ]
  },
  {
   "cell_type": "markdown",
   "metadata": {},
   "source": [
    "### Weight = 1"
   ]
  },
  {
   "cell_type": "code",
   "execution_count": 291,
   "metadata": {},
   "outputs": [
    {
     "data": {
      "text/plain": [
       "'\\nvisited nodes - mark them as -3 in maze numpy array \\npath- mark them as -1 in maze numpy array\\nand Visualize the maze\\n'"
      ]
     },
     "execution_count": 291,
     "metadata": {},
     "output_type": "execute_result"
    }
   ],
   "source": [
    "import heapq\n",
    "\n",
    "class PriorityQueue:\n",
    "    def __init__(self):\n",
    "        self.elements = []\n",
    "    \n",
    "    def empty(self) -> bool:\n",
    "        return not self.elements\n",
    "    \n",
    "    def put(self, item, priority):\n",
    "        heapq.heappush(self.elements, (priority, item))\n",
    "    \n",
    "    def get(self):\n",
    "        return heapq.heappop(self.elements)[1]\n",
    "\n",
    "def astar_path(graph, start, goal):\n",
    "    '''\n",
    "    para1: connected graph\n",
    "    para2: Starting node\n",
    "    para3: ending Node\n",
    "    return1: list of visited nodes\n",
    "    return2: nodes of shortest path\n",
    "    '''\n",
    "    frontier = PriorityQueue()\n",
    "    frontier.put(start, 0)\n",
    "    came_from= {}\n",
    "    cost_so_far= {}\n",
    "    came_from[start] = None\n",
    "    cost_so_far[start] = 0\n",
    "    W=1\n",
    "    while not frontier.empty():\n",
    "        current = frontier.get()\n",
    "        if current == goal:\n",
    "            break\n",
    "        #print(graph[current])\n",
    "        for next in (graph[current]):\n",
    "            maze1[current]=-1\n",
    "            new_cost = cost_so_far[current] + 1\n",
    "            if next not in cost_so_far or new_cost < cost_so_far[next]:\n",
    "                cost_so_far[next] = new_cost\n",
    "                ######\n",
    "                #you can make the interface of 'astar_path' more robust by providing a heuristic as a parameter\n",
    "                ###\n",
    "                priority = new_cost + W*Euclidean_distance(next, goal)\n",
    "                frontier.put(next, priority)\n",
    "                came_from[next] = current\n",
    "    current= goal\n",
    "    path = []\n",
    "    while current != start: \n",
    "        path.append(current)\n",
    "        #print(came_from[current])\n",
    "        current = came_from[current]\n",
    "    path.append(start) \n",
    "    path.reverse() \n",
    "    return came_from, path\n",
    "'''\n",
    "visited nodes - mark them as -3 in maze numpy array \n",
    "path- mark them as -1 in maze numpy array\n",
    "and Visualize the maze\n",
    "'''    "
   ]
  },
  {
   "cell_type": "code",
   "execution_count": 292,
   "metadata": {},
   "outputs": [],
   "source": [
    "#example for visualization of maze with visited nodes and shortest path\n",
    "# visited nodes are marked by '-3', the final path is marked by '-1'.\n",
    "maze1=build_maze(\"maze_25x25.txt\")\n",
    "graph=Find_the_edges(maze1)\n",
    "visited, path = astar_path(graph, START, GOAL)\n",
    "for i in visited:\n",
    "    maze1[i[0],i[1]]=-3\n",
    "for i in path:\n",
    "    maze1[i[0],i[1]]=-1"
   ]
  },
  {
   "cell_type": "code",
   "execution_count": 293,
   "metadata": {},
   "outputs": [
    {
     "data": {
      "text/plain": [
       "<matplotlib.image.AxesImage at 0x268dda0b3d0>"
      ]
     },
     "execution_count": 293,
     "metadata": {},
     "output_type": "execute_result"
    },
    {
     "data": {
      "image/png": "[encoded data removed]",
      "text/plain": [
       "<Figure size 432x288 with 1 Axes>"
      ]
     },
     "metadata": {
      "needs_background": "light"
     },
     "output_type": "display_data"
    }
   ],
   "source": [
    "plt.imshow(maze1, cmap='Pastel2')"
   ]
  },
  {
   "cell_type": "code",
   "execution_count": 294,
   "metadata": {},
   "outputs": [
    {
     "name": "stdout",
     "output_type": "stream",
     "text": [
      "Distance of the shortest path: 47\n"
     ]
    }
   ],
   "source": [
    "shortest_path_length = len(path)\n",
    "print(f\"Distance of the shortest path: {shortest_path_length}\")"
   ]
  },
  {
   "cell_type": "markdown",
   "metadata": {},
   "source": [
    "# Manhattan distance"
   ]
  },
  {
   "cell_type": "code",
   "execution_count": 295,
   "metadata": {},
   "outputs": [],
   "source": [
    "# implement the Manhattan distance between the 2 nodes, and update the code for A* accordingly\n",
    "def Manhattan_distance(node1, node2):\n",
    "    '''\n",
    "    para1: is a tuple which contains the coorinates of the source node\n",
    "    para2: is a tuple which contains the coorinates of the source node\n",
    "    return: Manhattan distance between the 2 nodes\n",
    "    '''\n",
    "    x1, y1 = node1\n",
    "    x2, y2 = node2\n",
    "    return abs(x1 - x2) + abs(y1 - y2)\n",
    "#     refer to https://xlinux.nist.gov/dads/HTML/manhattanDistance.html\n",
    "    pass"
   ]
  },
  {
   "cell_type": "markdown",
   "metadata": {},
   "source": [
    "# A* Search "
   ]
  },
  {
   "cell_type": "markdown",
   "metadata": {},
   "source": [
    "### Weight = 1"
   ]
  },
  {
   "cell_type": "code",
   "execution_count": 296,
   "metadata": {},
   "outputs": [
    {
     "data": {
      "text/plain": [
       "'\\nvisited nodes - mark them as -3 in maze numpy array \\npath- mark them as -1 in maze numpy array\\nand Visualize the maze\\n'"
      ]
     },
     "execution_count": 296,
     "metadata": {},
     "output_type": "execute_result"
    }
   ],
   "source": [
    "import heapq\n",
    "\n",
    "class PriorityQueue:\n",
    "    def __init__(self):\n",
    "        self.elements = []\n",
    "    \n",
    "    def empty(self) -> bool:\n",
    "        return not self.elements\n",
    "    \n",
    "    def put(self, item, priority):\n",
    "        heapq.heappush(self.elements, (priority, item))\n",
    "    \n",
    "    def get(self):\n",
    "        return heapq.heappop(self.elements)[1]\n",
    "\n",
    "def astar_path(graph, start, goal):\n",
    "    '''\n",
    "    para1: connected graph\n",
    "    para2: Starting node\n",
    "    para3: ending Node\n",
    "    return1: list of visited nodes\n",
    "    return2: nodes of shortest path\n",
    "    '''\n",
    "    frontier = PriorityQueue()\n",
    "    frontier.put(start, 0)\n",
    "    came_from= {}\n",
    "    cost_so_far= {}\n",
    "    came_from[start] = None\n",
    "    cost_so_far[start] = 0\n",
    "    W=1\n",
    "    while not frontier.empty():\n",
    "        current = frontier.get()\n",
    "        if current == goal:\n",
    "            break\n",
    "        #print(graph[current])\n",
    "        for next in (graph[current]):\n",
    "            maze1[current]=-1\n",
    "            new_cost = cost_so_far[current] + 1\n",
    "            if next not in cost_so_far or new_cost < cost_so_far[next]:\n",
    "                cost_so_far[next] = new_cost\n",
    "                ######\n",
    "                #you can make the interface of 'astar_path' more robust by providing a heuristic as a parameter\n",
    "                ###\n",
    "                priority = new_cost + W*Manhattan_distance(next, goal)\n",
    "                frontier.put(next, priority)\n",
    "                came_from[next] = current\n",
    "    current= goal\n",
    "    path = []\n",
    "    while current != start: \n",
    "        path.append(current)\n",
    "        #print(came_from[current])\n",
    "        current = came_from[current]\n",
    "    path.append(start) \n",
    "    path.reverse() \n",
    "    return came_from, path\n",
    "'''\n",
    "visited nodes - mark them as -3 in maze numpy array \n",
    "path- mark them as -1 in maze numpy array\n",
    "and Visualize the maze\n",
    "'''    "
   ]
  },
  {
   "cell_type": "code",
   "execution_count": 297,
   "metadata": {},
   "outputs": [],
   "source": [
    "#example for visualization of maze with visited nodes and shortest path\n",
    "# visited nodes are marked by '-3', the final path is marked by '-1'.\n",
    "maze1=build_maze(\"maze_25x25.txt\")\n",
    "graph=Find_the_edges(maze1)\n",
    "visited, path = astar_path(graph, START, GOAL)\n",
    "for i in visited:\n",
    "    maze1[i[0],i[1]]=-3\n",
    "for i in path:\n",
    "    maze1[i[0],i[1]]=-1"
   ]
  },
  {
   "cell_type": "code",
   "execution_count": 298,
   "metadata": {},
   "outputs": [
    {
     "data": {
      "text/plain": [
       "<matplotlib.image.AxesImage at 0x268dbecfd00>"
      ]
     },
     "execution_count": 298,
     "metadata": {},
     "output_type": "execute_result"
    },
    {
     "data": {
      "image/png": "[encoded data removed]",
      "text/plain": [
       "<Figure size 432x288 with 1 Axes>"
      ]
     },
     "metadata": {
      "needs_background": "light"
     },
     "output_type": "display_data"
    }
   ],
   "source": [
    "plt.imshow(maze1, cmap='Pastel2')"
   ]
  },
  {
   "cell_type": "code",
   "execution_count": 299,
   "metadata": {},
   "outputs": [
    {
     "name": "stdout",
     "output_type": "stream",
     "text": [
      "Distance of the shortest path: 47\n",
      "258\n"
     ]
    }
   ],
   "source": [
    "shortest_path_length = len(path)\n",
    "print(f\"Distance of the shortest path: {shortest_path_length}\")\n",
    "print(len(visited))"
   ]
  },
  {
   "cell_type": "markdown",
   "metadata": {},
   "source": [
    "### Observations:\n",
    "\n",
    "On letting the agent travel diagonally we find that it reduces the shortest path, but it increases the search space. "
   ]
  },
  {
   "attachments": {
    "cmpe252_HW1_Bonus.png": {
     "image/png": "[encoded data removed]"
    }
   },
   "cell_type": "markdown",
   "metadata": {},
   "source": [
    "### Bonus Task (10 pt): Solving \"Sliding Tile Puzzle\" with A*-Search\n",
    "the initial and the final configurations are given at the image below. \n",
    "you can use **the number of displaced tiles** as a heuristics function, $h_1$. Use W=1\n",
    "add you code and print the optimal action sequence (which tile to move) from the intial to the final configuration.\n",
    "![cmpe252_HW1_Bonus.png](attachment:cmpe252_HW1_Bonus.png)"
   ]
  },
  {
   "cell_type": "code",
   "execution_count": 300,
   "metadata": {},
   "outputs": [
    {
     "name": "stdout",
     "output_type": "stream",
     "text": [
      "Initial Puzzle:\n",
      "7 2 4\n",
      "5 0 6\n",
      "8 3 1\n",
      "\n",
      "\n",
      "Goal Puzzle:\n",
      "0 1 2\n",
      "3 4 5\n",
      "6 7 8\n",
      "\n",
      "\n",
      "Shortest Solution:\n",
      "Step 1:\n",
      "7 2 4\n",
      "5 0 6\n",
      "8 3 1\n",
      "\n",
      "\n",
      "Step 2:\n",
      "7 2 4\n",
      "0 5 6\n",
      "8 3 1\n",
      "\n",
      "\n",
      "Step 3:\n",
      "0 2 4\n",
      "7 5 6\n",
      "8 3 1\n",
      "\n",
      "\n",
      "Step 4:\n",
      "2 0 4\n",
      "7 5 6\n",
      "8 3 1\n",
      "\n",
      "\n",
      "Step 5:\n",
      "2 5 4\n",
      "7 0 6\n",
      "8 3 1\n",
      "\n",
      "\n",
      "Step 6:\n",
      "2 5 4\n",
      "7 6 0\n",
      "8 3 1\n",
      "\n",
      "\n",
      "Step 7:\n",
      "2 5 4\n",
      "7 6 1\n",
      "8 3 0\n",
      "\n",
      "\n",
      "Step 8:\n",
      "2 5 4\n",
      "7 6 1\n",
      "8 0 3\n",
      "\n",
      "\n",
      "Step 9:\n",
      "2 5 4\n",
      "7 6 1\n",
      "0 8 3\n",
      "\n",
      "\n",
      "Step 10:\n",
      "2 5 4\n",
      "0 6 1\n",
      "7 8 3\n",
      "\n",
      "\n",
      "Step 11:\n",
      "2 5 4\n",
      "6 0 1\n",
      "7 8 3\n",
      "\n",
      "\n",
      "Step 12:\n",
      "2 5 4\n",
      "6 1 0\n",
      "7 8 3\n",
      "\n",
      "\n",
      "Step 13:\n",
      "2 5 4\n",
      "6 1 3\n",
      "7 8 0\n",
      "\n",
      "\n",
      "Step 14:\n",
      "2 5 4\n",
      "6 1 3\n",
      "7 0 8\n",
      "\n",
      "\n",
      "Step 15:\n",
      "2 5 4\n",
      "6 1 3\n",
      "0 7 8\n",
      "\n",
      "\n",
      "Step 16:\n",
      "2 5 4\n",
      "0 1 3\n",
      "6 7 8\n",
      "\n",
      "\n",
      "Step 17:\n",
      "2 5 4\n",
      "1 0 3\n",
      "6 7 8\n",
      "\n",
      "\n",
      "Step 18:\n",
      "2 5 4\n",
      "1 3 0\n",
      "6 7 8\n",
      "\n",
      "\n",
      "Step 19:\n",
      "2 5 0\n",
      "1 3 4\n",
      "6 7 8\n",
      "\n",
      "\n",
      "Step 20:\n",
      "2 0 5\n",
      "1 3 4\n",
      "6 7 8\n",
      "\n",
      "\n",
      "Step 21:\n",
      "0 2 5\n",
      "1 3 4\n",
      "6 7 8\n",
      "\n",
      "\n",
      "Step 22:\n",
      "1 2 5\n",
      "0 3 4\n",
      "6 7 8\n",
      "\n",
      "\n",
      "Step 23:\n",
      "1 2 5\n",
      "3 0 4\n",
      "6 7 8\n",
      "\n",
      "\n",
      "Step 24:\n",
      "1 2 5\n",
      "3 4 0\n",
      "6 7 8\n",
      "\n",
      "\n",
      "Step 25:\n",
      "1 2 0\n",
      "3 4 5\n",
      "6 7 8\n",
      "\n",
      "\n",
      "Step 26:\n",
      "1 0 2\n",
      "3 4 5\n",
      "6 7 8\n",
      "\n",
      "\n",
      "Step 27:\n",
      "0 1 2\n",
      "3 4 5\n",
      "6 7 8\n",
      "\n",
      "\n"
     ]
    }
   ],
   "source": [
    "import heapq\n",
    "import copy\n",
    "\n",
    "class Slide_Puzzle:\n",
    "    def __init__(self, state, g=0, h=0):\n",
    "        self.state = state  # Current state of the puzzle\n",
    "        self.g = g  # Cost from the initial state to this state\n",
    "        self.h = h  # Heuristic value (number of misplaced tiles)\n",
    "        self.parent = None  # Parent state\n",
    "    \n",
    "    def __lt__(self, other):\n",
    "        # Compare states based on f = g + h\n",
    "        return (self.g + self.h) < (other.g + other.h)\n",
    "\n",
    "# Define initial and goal states\n",
    "initial_state = [[7, 2, 4], [5, 0, 6], [8, 3, 1]]  # Initial state\n",
    "goal_state = [[0, 1, 2], [3, 4, 5], [6, 7, 8]]  # Goal state\n",
    "\n",
    "def h1(state, goal):\n",
    "    count = 0\n",
    "    for i in range(3):\n",
    "        for j in range(3):\n",
    "            if state[i][j] != goal[i][j]:\n",
    "                count += 1\n",
    "    return count\n",
    "  \n",
    "def astar_puzzle(initial_state, goal_state):\n",
    "    # Initialize priority queue\n",
    "    frontier = []\n",
    "    heapq.heappush(frontier, Slide_Puzzle(initial_state, 0, h1(initial_state, goal_state)))\n",
    "    \n",
    "    \n",
    "    visited = set()\n",
    "    \n",
    "    # Perform A* search\n",
    "    while frontier:\n",
    "        current_state = heapq.heappop(frontier)\n",
    "        current_puzzle = current_state.state\n",
    "        \n",
    "        if current_puzzle == goal_state:\n",
    "            # Reached the goal state, backtrack to find the solution\n",
    "            solution_sequence = []\n",
    "            while current_state:\n",
    "                solution_sequence.append(current_state)\n",
    "                current_state = current_state.parent\n",
    "            solution_sequence.reverse()  # Reverse to get the correct order\n",
    "            return solution_sequence\n",
    "        \n",
    "        visited.add(tuple(map(tuple, current_puzzle))) \n",
    "        \n",
    "        # Generate successor states\n",
    "        zero_row, zero_col = None, None\n",
    "        for i in range(3):\n",
    "            for j in range(3):\n",
    "                if current_puzzle[i][j] == 0:\n",
    "                    zero_row, zero_col = i, j\n",
    "        \n",
    "        moves = [(0, 1), (0, -1), (1, 0), (-1, 0)]  # Right, Left, Down, Up\n",
    "        \n",
    "        for a, b in moves:\n",
    "            new_row, new_col = zero_row + a, zero_col + b\n",
    "            if 0 <= new_row < 3 and 0 <= new_col < 3:\n",
    "                new_state = copy.deepcopy(current_puzzle)\n",
    "                new_state[zero_row][zero_col], new_state[new_row][new_col] = new_state[new_row][new_col], new_state[zero_row][zero_col]\n",
    "                \n",
    "                if tuple(map(tuple, new_state)) not in visited:\n",
    "                    # Compute g and h values for the new state\n",
    "                    g_value = current_state.g + 1\n",
    "                    h_value = h1(new_state, goal_state)\n",
    "                    \n",
    "                    # Add the new state to the frontier\n",
    "                    updated_puzzlestate = Slide_Puzzle(new_state, g_value, h_value)\n",
    "                    updated_puzzlestate.parent = current_state  # Set the parent state\n",
    "                    heapq.heappush(frontier, updated_puzzlestate)\n",
    "    \n",
    "    return None  # No solution found\n",
    "\n",
    "def print_puzzle(state):\n",
    "    for row in state:\n",
    "        print(\" \".join(map(str, row)))\n",
    "    print(\"\\n\")\n",
    "\n",
    "# Call the A* search function\n",
    "print(\"Initial Puzzle:\")\n",
    "print_puzzle(initial_state)\n",
    "solution_sequence = astar_puzzle(initial_state, goal_state)\n",
    "\n",
    "if solution_sequence is not None:\n",
    "    print(\"Goal Puzzle:\")\n",
    "    print_puzzle(goal_state)\n",
    "    print(\"Shortest Solution:\")\n",
    "    for i, state in enumerate(solution_sequence):\n",
    "        print(f\"Step {i + 1}:\")\n",
    "        print_puzzle(state.state)\n",
    "else:\n",
    "    print(\"Invalid initial state\")\n"
   ]
  },
  {
   "cell_type": "code",
   "execution_count": null,
   "metadata": {},
   "outputs": [],
   "source": []
  }
 ],
 "metadata": {
  "kernelspec": {
   "display_name": "Python 3",
   "language": "python",
   "name": "python3"
  },
  "language_info": {
   "codemirror_mode": {
    "name": "ipython",
    "version": 3
   },
   "file_extension": ".py",
   "mimetype": "text/x-python",
   "name": "python",
   "nbconvert_exporter": "python",
   "pygments_lexer": "ipython3",
   "version": "3.8.5"
  }
 },
 "nbformat": 4,
 "nbformat_minor": 5
}
